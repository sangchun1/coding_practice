{
  "cells": [
    {
      "cell_type": "markdown",
      "id": "20f6d556",
      "metadata": {
        "id": "20f6d556"
      },
      "source": [
        "* 데이터 수집      \n",
        "  http://data.seoul.go.kr/dataList/OA-12252/S/1/datasetView.do"
      ]
    },
    {
      "cell_type": "code",
      "source": [
        "!sudo apt-get install -y fonts-nanum\n",
        "!sudo fc-cache -fv\n",
        "!rm ~/.cache/matplotlib -rf"
      ],
      "metadata": {
        "id": "HdE3IgZq-dym"
      },
      "id": "HdE3IgZq-dym",
      "execution_count": null,
      "outputs": []
    },
    {
      "cell_type": "code",
      "execution_count": 1,
      "id": "bcef9f87",
      "metadata": {
        "id": "bcef9f87"
      },
      "outputs": [],
      "source": [
        "import pandas as pd\n",
        "import matplotlib.pyplot as plt\n",
        "plt.rc('font', family='NanumBarunGothic') "
      ]
    },
    {
      "cell_type": "markdown",
      "id": "5b0e4080",
      "metadata": {
        "id": "5b0e4080"
      },
      "source": [
        "# 데이터 확인 및 전처리\n",
        " * 월별, 시간대별, 역별 지하철 승하차정보 데이터이다."
      ]
    },
    {
      "cell_type": "code",
      "execution_count": 223,
      "id": "829f3ab8",
      "metadata": {
        "id": "829f3ab8"
      },
      "outputs": [],
      "source": [
        "df = pd.read_csv('./서울시 지하철 호선별 역별 시간대별 승하차 인원 정보.csv', encoding='cp949')"
      ]
    },
    {
      "cell_type": "code",
      "execution_count": 224,
      "id": "ba52b75b",
      "metadata": {
        "scrolled": false,
        "id": "ba52b75b",
        "outputId": "2dcf90ba-56fe-41de-92bd-f2c368bcaa09",
        "colab": {
          "base_uri": "https://localhost:8080/",
          "height": 401
        }
      },
      "outputs": [
        {
          "output_type": "execute_result",
          "data": {
            "text/plain": [
              "      사용월  호선명 지하철역  04시-05시 승차인원  04시-05시 하차인원  05시-06시 승차인원  05시-06시 하차인원  \\\n",
              "0  202211  1호선  동대문           728             4         10942          1871   \n",
              "1  202211  1호선  동묘앞           205             4          3082          1052   \n",
              "2  202211  1호선  서울역           698            24          8634          8662   \n",
              "3  202211  1호선   시청           121             0          2050          4369   \n",
              "4  202211  1호선  신설동           372            15          9256          2278   \n",
              "\n",
              "   06시-07시 승차인원  06시-07시 하차인원  07시-08시 승차인원  ...  23시-24시 하차인원  00시-01시 승차인원  \\\n",
              "0          8782          6391         14368  ...          7946           518   \n",
              "1          3731          4674          6555  ...          3580            89   \n",
              "2         13165         49665         42055  ...         13413          2321   \n",
              "3          3391         23225          7286  ...          3194           872   \n",
              "4          9260          8707         20784  ...          7874           370   \n",
              "\n",
              "   00시-01시 하차인원  01시-02시 승차인원  01시-02시 하차인원  02시-03시 승차인원  02시-03시 하차인원  \\\n",
              "0          2191             5           206             0             1   \n",
              "1          1322             2           332             0             1   \n",
              "2          2639             2           192             0             0   \n",
              "3           850             1            26             0             0   \n",
              "4          2070             1             6             0             0   \n",
              "\n",
              "   03시-04시 승차인원  03시-04시 하차인원      작업일자  \n",
              "0             0             0  20221203  \n",
              "1             0             0  20221203  \n",
              "2             0             0  20221203  \n",
              "3             0             0  20221203  \n",
              "4             0             0  20221203  \n",
              "\n",
              "[5 rows x 52 columns]"
            ],
            "text/html": [
              "\n",
              "  <div id=\"df-a52795b4-f11c-4fd4-91c1-33a8d51ccbed\">\n",
              "    <div class=\"colab-df-container\">\n",
              "      <div>\n",
              "<style scoped>\n",
              "    .dataframe tbody tr th:only-of-type {\n",
              "        vertical-align: middle;\n",
              "    }\n",
              "\n",
              "    .dataframe tbody tr th {\n",
              "        vertical-align: top;\n",
              "    }\n",
              "\n",
              "    .dataframe thead th {\n",
              "        text-align: right;\n",
              "    }\n",
              "</style>\n",
              "<table border=\"1\" class=\"dataframe\">\n",
              "  <thead>\n",
              "    <tr style=\"text-align: right;\">\n",
              "      <th></th>\n",
              "      <th>사용월</th>\n",
              "      <th>호선명</th>\n",
              "      <th>지하철역</th>\n",
              "      <th>04시-05시 승차인원</th>\n",
              "      <th>04시-05시 하차인원</th>\n",
              "      <th>05시-06시 승차인원</th>\n",
              "      <th>05시-06시 하차인원</th>\n",
              "      <th>06시-07시 승차인원</th>\n",
              "      <th>06시-07시 하차인원</th>\n",
              "      <th>07시-08시 승차인원</th>\n",
              "      <th>...</th>\n",
              "      <th>23시-24시 하차인원</th>\n",
              "      <th>00시-01시 승차인원</th>\n",
              "      <th>00시-01시 하차인원</th>\n",
              "      <th>01시-02시 승차인원</th>\n",
              "      <th>01시-02시 하차인원</th>\n",
              "      <th>02시-03시 승차인원</th>\n",
              "      <th>02시-03시 하차인원</th>\n",
              "      <th>03시-04시 승차인원</th>\n",
              "      <th>03시-04시 하차인원</th>\n",
              "      <th>작업일자</th>\n",
              "    </tr>\n",
              "  </thead>\n",
              "  <tbody>\n",
              "    <tr>\n",
              "      <th>0</th>\n",
              "      <td>202211</td>\n",
              "      <td>1호선</td>\n",
              "      <td>동대문</td>\n",
              "      <td>728</td>\n",
              "      <td>4</td>\n",
              "      <td>10942</td>\n",
              "      <td>1871</td>\n",
              "      <td>8782</td>\n",
              "      <td>6391</td>\n",
              "      <td>14368</td>\n",
              "      <td>...</td>\n",
              "      <td>7946</td>\n",
              "      <td>518</td>\n",
              "      <td>2191</td>\n",
              "      <td>5</td>\n",
              "      <td>206</td>\n",
              "      <td>0</td>\n",
              "      <td>1</td>\n",
              "      <td>0</td>\n",
              "      <td>0</td>\n",
              "      <td>20221203</td>\n",
              "    </tr>\n",
              "    <tr>\n",
              "      <th>1</th>\n",
              "      <td>202211</td>\n",
              "      <td>1호선</td>\n",
              "      <td>동묘앞</td>\n",
              "      <td>205</td>\n",
              "      <td>4</td>\n",
              "      <td>3082</td>\n",
              "      <td>1052</td>\n",
              "      <td>3731</td>\n",
              "      <td>4674</td>\n",
              "      <td>6555</td>\n",
              "      <td>...</td>\n",
              "      <td>3580</td>\n",
              "      <td>89</td>\n",
              "      <td>1322</td>\n",
              "      <td>2</td>\n",
              "      <td>332</td>\n",
              "      <td>0</td>\n",
              "      <td>1</td>\n",
              "      <td>0</td>\n",
              "      <td>0</td>\n",
              "      <td>20221203</td>\n",
              "    </tr>\n",
              "    <tr>\n",
              "      <th>2</th>\n",
              "      <td>202211</td>\n",
              "      <td>1호선</td>\n",
              "      <td>서울역</td>\n",
              "      <td>698</td>\n",
              "      <td>24</td>\n",
              "      <td>8634</td>\n",
              "      <td>8662</td>\n",
              "      <td>13165</td>\n",
              "      <td>49665</td>\n",
              "      <td>42055</td>\n",
              "      <td>...</td>\n",
              "      <td>13413</td>\n",
              "      <td>2321</td>\n",
              "      <td>2639</td>\n",
              "      <td>2</td>\n",
              "      <td>192</td>\n",
              "      <td>0</td>\n",
              "      <td>0</td>\n",
              "      <td>0</td>\n",
              "      <td>0</td>\n",
              "      <td>20221203</td>\n",
              "    </tr>\n",
              "    <tr>\n",
              "      <th>3</th>\n",
              "      <td>202211</td>\n",
              "      <td>1호선</td>\n",
              "      <td>시청</td>\n",
              "      <td>121</td>\n",
              "      <td>0</td>\n",
              "      <td>2050</td>\n",
              "      <td>4369</td>\n",
              "      <td>3391</td>\n",
              "      <td>23225</td>\n",
              "      <td>7286</td>\n",
              "      <td>...</td>\n",
              "      <td>3194</td>\n",
              "      <td>872</td>\n",
              "      <td>850</td>\n",
              "      <td>1</td>\n",
              "      <td>26</td>\n",
              "      <td>0</td>\n",
              "      <td>0</td>\n",
              "      <td>0</td>\n",
              "      <td>0</td>\n",
              "      <td>20221203</td>\n",
              "    </tr>\n",
              "    <tr>\n",
              "      <th>4</th>\n",
              "      <td>202211</td>\n",
              "      <td>1호선</td>\n",
              "      <td>신설동</td>\n",
              "      <td>372</td>\n",
              "      <td>15</td>\n",
              "      <td>9256</td>\n",
              "      <td>2278</td>\n",
              "      <td>9260</td>\n",
              "      <td>8707</td>\n",
              "      <td>20784</td>\n",
              "      <td>...</td>\n",
              "      <td>7874</td>\n",
              "      <td>370</td>\n",
              "      <td>2070</td>\n",
              "      <td>1</td>\n",
              "      <td>6</td>\n",
              "      <td>0</td>\n",
              "      <td>0</td>\n",
              "      <td>0</td>\n",
              "      <td>0</td>\n",
              "      <td>20221203</td>\n",
              "    </tr>\n",
              "  </tbody>\n",
              "</table>\n",
              "<p>5 rows × 52 columns</p>\n",
              "</div>\n",
              "      <button class=\"colab-df-convert\" onclick=\"convertToInteractive('df-a52795b4-f11c-4fd4-91c1-33a8d51ccbed')\"\n",
              "              title=\"Convert this dataframe to an interactive table.\"\n",
              "              style=\"display:none;\">\n",
              "        \n",
              "  <svg xmlns=\"http://www.w3.org/2000/svg\" height=\"24px\"viewBox=\"0 0 24 24\"\n",
              "       width=\"24px\">\n",
              "    <path d=\"M0 0h24v24H0V0z\" fill=\"none\"/>\n",
              "    <path d=\"M18.56 5.44l.94 2.06.94-2.06 2.06-.94-2.06-.94-.94-2.06-.94 2.06-2.06.94zm-11 1L8.5 8.5l.94-2.06 2.06-.94-2.06-.94L8.5 2.5l-.94 2.06-2.06.94zm10 10l.94 2.06.94-2.06 2.06-.94-2.06-.94-.94-2.06-.94 2.06-2.06.94z\"/><path d=\"M17.41 7.96l-1.37-1.37c-.4-.4-.92-.59-1.43-.59-.52 0-1.04.2-1.43.59L10.3 9.45l-7.72 7.72c-.78.78-.78 2.05 0 2.83L4 21.41c.39.39.9.59 1.41.59.51 0 1.02-.2 1.41-.59l7.78-7.78 2.81-2.81c.8-.78.8-2.07 0-2.86zM5.41 20L4 18.59l7.72-7.72 1.47 1.35L5.41 20z\"/>\n",
              "  </svg>\n",
              "      </button>\n",
              "      \n",
              "  <style>\n",
              "    .colab-df-container {\n",
              "      display:flex;\n",
              "      flex-wrap:wrap;\n",
              "      gap: 12px;\n",
              "    }\n",
              "\n",
              "    .colab-df-convert {\n",
              "      background-color: #E8F0FE;\n",
              "      border: none;\n",
              "      border-radius: 50%;\n",
              "      cursor: pointer;\n",
              "      display: none;\n",
              "      fill: #1967D2;\n",
              "      height: 32px;\n",
              "      padding: 0 0 0 0;\n",
              "      width: 32px;\n",
              "    }\n",
              "\n",
              "    .colab-df-convert:hover {\n",
              "      background-color: #E2EBFA;\n",
              "      box-shadow: 0px 1px 2px rgba(60, 64, 67, 0.3), 0px 1px 3px 1px rgba(60, 64, 67, 0.15);\n",
              "      fill: #174EA6;\n",
              "    }\n",
              "\n",
              "    [theme=dark] .colab-df-convert {\n",
              "      background-color: #3B4455;\n",
              "      fill: #D2E3FC;\n",
              "    }\n",
              "\n",
              "    [theme=dark] .colab-df-convert:hover {\n",
              "      background-color: #434B5C;\n",
              "      box-shadow: 0px 1px 3px 1px rgba(0, 0, 0, 0.15);\n",
              "      filter: drop-shadow(0px 1px 2px rgba(0, 0, 0, 0.3));\n",
              "      fill: #FFFFFF;\n",
              "    }\n",
              "  </style>\n",
              "\n",
              "      <script>\n",
              "        const buttonEl =\n",
              "          document.querySelector('#df-a52795b4-f11c-4fd4-91c1-33a8d51ccbed button.colab-df-convert');\n",
              "        buttonEl.style.display =\n",
              "          google.colab.kernel.accessAllowed ? 'block' : 'none';\n",
              "\n",
              "        async function convertToInteractive(key) {\n",
              "          const element = document.querySelector('#df-a52795b4-f11c-4fd4-91c1-33a8d51ccbed');\n",
              "          const dataTable =\n",
              "            await google.colab.kernel.invokeFunction('convertToInteractive',\n",
              "                                                     [key], {});\n",
              "          if (!dataTable) return;\n",
              "\n",
              "          const docLinkHtml = 'Like what you see? Visit the ' +\n",
              "            '<a target=\"_blank\" href=https://colab.research.google.com/notebooks/data_table.ipynb>data table notebook</a>'\n",
              "            + ' to learn more about interactive tables.';\n",
              "          element.innerHTML = '';\n",
              "          dataTable['output_type'] = 'display_data';\n",
              "          await google.colab.output.renderOutput(dataTable, element);\n",
              "          const docLink = document.createElement('div');\n",
              "          docLink.innerHTML = docLinkHtml;\n",
              "          element.appendChild(docLink);\n",
              "        }\n",
              "      </script>\n",
              "    </div>\n",
              "  </div>\n",
              "  "
            ]
          },
          "metadata": {},
          "execution_count": 224
        }
      ],
      "source": [
        "df.head()"
      ]
    },
    {
      "cell_type": "code",
      "execution_count": 225,
      "id": "a2b441ae",
      "metadata": {
        "scrolled": false,
        "id": "a2b441ae",
        "outputId": "d6abe8c2-e385-431a-d551-6b525a94aa91",
        "colab": {
          "base_uri": "https://localhost:8080/",
          "height": 488
        }
      },
      "outputs": [
        {
          "output_type": "execute_result",
          "data": {
            "text/plain": [
              "          사용월  호선명 지하철역  04시-05시 승차인원  04시-05시 하차인원  05시-06시 승차인원  \\\n",
              "55721  201501  중앙선  운길산             0             0           177   \n",
              "55722  201501  중앙선   원덕             1             0           292   \n",
              "55723  201501  중앙선   중랑            14             1          4929   \n",
              "55724  201501  중앙선   팔당             0             0           161   \n",
              "55725  201501  중앙선   회기           436             3         10929   \n",
              "\n",
              "       05시-06시 하차인원  06시-07시 승차인원  06시-07시 하차인원  07시-08시 승차인원  ...  \\\n",
              "55721            56           642           403          1292  ...   \n",
              "55722             4           415            46           537  ...   \n",
              "55723           424          8539          2084         22160  ...   \n",
              "55724            50           368           149          1227  ...   \n",
              "55725          3067         23317         10430         65043  ...   \n",
              "\n",
              "       23시-24시 하차인원  00시-01시 승차인원  00시-01시 하차인원  01시-02시 승차인원  01시-02시 하차인원  \\\n",
              "55721           633             3           222             0             0   \n",
              "55722           383             3           157             0             0   \n",
              "55723          6501            86          1617             0             0   \n",
              "55724           336             8            85             0             0   \n",
              "55725         35702           767          9314             0             0   \n",
              "\n",
              "       02시-03시 승차인원  02시-03시 하차인원  03시-04시 승차인원  03시-04시 하차인원      작업일자  \n",
              "55721             0             0             0             0  20151223  \n",
              "55722             0             0             0             0  20151223  \n",
              "55723             0             0             0             0  20151223  \n",
              "55724             0             0             0             0  20151223  \n",
              "55725             0             0             0             0  20151223  \n",
              "\n",
              "[5 rows x 52 columns]"
            ],
            "text/html": [
              "\n",
              "  <div id=\"df-21bf9e92-e7df-453c-8c08-b51851620010\">\n",
              "    <div class=\"colab-df-container\">\n",
              "      <div>\n",
              "<style scoped>\n",
              "    .dataframe tbody tr th:only-of-type {\n",
              "        vertical-align: middle;\n",
              "    }\n",
              "\n",
              "    .dataframe tbody tr th {\n",
              "        vertical-align: top;\n",
              "    }\n",
              "\n",
              "    .dataframe thead th {\n",
              "        text-align: right;\n",
              "    }\n",
              "</style>\n",
              "<table border=\"1\" class=\"dataframe\">\n",
              "  <thead>\n",
              "    <tr style=\"text-align: right;\">\n",
              "      <th></th>\n",
              "      <th>사용월</th>\n",
              "      <th>호선명</th>\n",
              "      <th>지하철역</th>\n",
              "      <th>04시-05시 승차인원</th>\n",
              "      <th>04시-05시 하차인원</th>\n",
              "      <th>05시-06시 승차인원</th>\n",
              "      <th>05시-06시 하차인원</th>\n",
              "      <th>06시-07시 승차인원</th>\n",
              "      <th>06시-07시 하차인원</th>\n",
              "      <th>07시-08시 승차인원</th>\n",
              "      <th>...</th>\n",
              "      <th>23시-24시 하차인원</th>\n",
              "      <th>00시-01시 승차인원</th>\n",
              "      <th>00시-01시 하차인원</th>\n",
              "      <th>01시-02시 승차인원</th>\n",
              "      <th>01시-02시 하차인원</th>\n",
              "      <th>02시-03시 승차인원</th>\n",
              "      <th>02시-03시 하차인원</th>\n",
              "      <th>03시-04시 승차인원</th>\n",
              "      <th>03시-04시 하차인원</th>\n",
              "      <th>작업일자</th>\n",
              "    </tr>\n",
              "  </thead>\n",
              "  <tbody>\n",
              "    <tr>\n",
              "      <th>55721</th>\n",
              "      <td>201501</td>\n",
              "      <td>중앙선</td>\n",
              "      <td>운길산</td>\n",
              "      <td>0</td>\n",
              "      <td>0</td>\n",
              "      <td>177</td>\n",
              "      <td>56</td>\n",
              "      <td>642</td>\n",
              "      <td>403</td>\n",
              "      <td>1292</td>\n",
              "      <td>...</td>\n",
              "      <td>633</td>\n",
              "      <td>3</td>\n",
              "      <td>222</td>\n",
              "      <td>0</td>\n",
              "      <td>0</td>\n",
              "      <td>0</td>\n",
              "      <td>0</td>\n",
              "      <td>0</td>\n",
              "      <td>0</td>\n",
              "      <td>20151223</td>\n",
              "    </tr>\n",
              "    <tr>\n",
              "      <th>55722</th>\n",
              "      <td>201501</td>\n",
              "      <td>중앙선</td>\n",
              "      <td>원덕</td>\n",
              "      <td>1</td>\n",
              "      <td>0</td>\n",
              "      <td>292</td>\n",
              "      <td>4</td>\n",
              "      <td>415</td>\n",
              "      <td>46</td>\n",
              "      <td>537</td>\n",
              "      <td>...</td>\n",
              "      <td>383</td>\n",
              "      <td>3</td>\n",
              "      <td>157</td>\n",
              "      <td>0</td>\n",
              "      <td>0</td>\n",
              "      <td>0</td>\n",
              "      <td>0</td>\n",
              "      <td>0</td>\n",
              "      <td>0</td>\n",
              "      <td>20151223</td>\n",
              "    </tr>\n",
              "    <tr>\n",
              "      <th>55723</th>\n",
              "      <td>201501</td>\n",
              "      <td>중앙선</td>\n",
              "      <td>중랑</td>\n",
              "      <td>14</td>\n",
              "      <td>1</td>\n",
              "      <td>4929</td>\n",
              "      <td>424</td>\n",
              "      <td>8539</td>\n",
              "      <td>2084</td>\n",
              "      <td>22160</td>\n",
              "      <td>...</td>\n",
              "      <td>6501</td>\n",
              "      <td>86</td>\n",
              "      <td>1617</td>\n",
              "      <td>0</td>\n",
              "      <td>0</td>\n",
              "      <td>0</td>\n",
              "      <td>0</td>\n",
              "      <td>0</td>\n",
              "      <td>0</td>\n",
              "      <td>20151223</td>\n",
              "    </tr>\n",
              "    <tr>\n",
              "      <th>55724</th>\n",
              "      <td>201501</td>\n",
              "      <td>중앙선</td>\n",
              "      <td>팔당</td>\n",
              "      <td>0</td>\n",
              "      <td>0</td>\n",
              "      <td>161</td>\n",
              "      <td>50</td>\n",
              "      <td>368</td>\n",
              "      <td>149</td>\n",
              "      <td>1227</td>\n",
              "      <td>...</td>\n",
              "      <td>336</td>\n",
              "      <td>8</td>\n",
              "      <td>85</td>\n",
              "      <td>0</td>\n",
              "      <td>0</td>\n",
              "      <td>0</td>\n",
              "      <td>0</td>\n",
              "      <td>0</td>\n",
              "      <td>0</td>\n",
              "      <td>20151223</td>\n",
              "    </tr>\n",
              "    <tr>\n",
              "      <th>55725</th>\n",
              "      <td>201501</td>\n",
              "      <td>중앙선</td>\n",
              "      <td>회기</td>\n",
              "      <td>436</td>\n",
              "      <td>3</td>\n",
              "      <td>10929</td>\n",
              "      <td>3067</td>\n",
              "      <td>23317</td>\n",
              "      <td>10430</td>\n",
              "      <td>65043</td>\n",
              "      <td>...</td>\n",
              "      <td>35702</td>\n",
              "      <td>767</td>\n",
              "      <td>9314</td>\n",
              "      <td>0</td>\n",
              "      <td>0</td>\n",
              "      <td>0</td>\n",
              "      <td>0</td>\n",
              "      <td>0</td>\n",
              "      <td>0</td>\n",
              "      <td>20151223</td>\n",
              "    </tr>\n",
              "  </tbody>\n",
              "</table>\n",
              "<p>5 rows × 52 columns</p>\n",
              "</div>\n",
              "      <button class=\"colab-df-convert\" onclick=\"convertToInteractive('df-21bf9e92-e7df-453c-8c08-b51851620010')\"\n",
              "              title=\"Convert this dataframe to an interactive table.\"\n",
              "              style=\"display:none;\">\n",
              "        \n",
              "  <svg xmlns=\"http://www.w3.org/2000/svg\" height=\"24px\"viewBox=\"0 0 24 24\"\n",
              "       width=\"24px\">\n",
              "    <path d=\"M0 0h24v24H0V0z\" fill=\"none\"/>\n",
              "    <path d=\"M18.56 5.44l.94 2.06.94-2.06 2.06-.94-2.06-.94-.94-2.06-.94 2.06-2.06.94zm-11 1L8.5 8.5l.94-2.06 2.06-.94-2.06-.94L8.5 2.5l-.94 2.06-2.06.94zm10 10l.94 2.06.94-2.06 2.06-.94-2.06-.94-.94-2.06-.94 2.06-2.06.94z\"/><path d=\"M17.41 7.96l-1.37-1.37c-.4-.4-.92-.59-1.43-.59-.52 0-1.04.2-1.43.59L10.3 9.45l-7.72 7.72c-.78.78-.78 2.05 0 2.83L4 21.41c.39.39.9.59 1.41.59.51 0 1.02-.2 1.41-.59l7.78-7.78 2.81-2.81c.8-.78.8-2.07 0-2.86zM5.41 20L4 18.59l7.72-7.72 1.47 1.35L5.41 20z\"/>\n",
              "  </svg>\n",
              "      </button>\n",
              "      \n",
              "  <style>\n",
              "    .colab-df-container {\n",
              "      display:flex;\n",
              "      flex-wrap:wrap;\n",
              "      gap: 12px;\n",
              "    }\n",
              "\n",
              "    .colab-df-convert {\n",
              "      background-color: #E8F0FE;\n",
              "      border: none;\n",
              "      border-radius: 50%;\n",
              "      cursor: pointer;\n",
              "      display: none;\n",
              "      fill: #1967D2;\n",
              "      height: 32px;\n",
              "      padding: 0 0 0 0;\n",
              "      width: 32px;\n",
              "    }\n",
              "\n",
              "    .colab-df-convert:hover {\n",
              "      background-color: #E2EBFA;\n",
              "      box-shadow: 0px 1px 2px rgba(60, 64, 67, 0.3), 0px 1px 3px 1px rgba(60, 64, 67, 0.15);\n",
              "      fill: #174EA6;\n",
              "    }\n",
              "\n",
              "    [theme=dark] .colab-df-convert {\n",
              "      background-color: #3B4455;\n",
              "      fill: #D2E3FC;\n",
              "    }\n",
              "\n",
              "    [theme=dark] .colab-df-convert:hover {\n",
              "      background-color: #434B5C;\n",
              "      box-shadow: 0px 1px 3px 1px rgba(0, 0, 0, 0.15);\n",
              "      filter: drop-shadow(0px 1px 2px rgba(0, 0, 0, 0.3));\n",
              "      fill: #FFFFFF;\n",
              "    }\n",
              "  </style>\n",
              "\n",
              "      <script>\n",
              "        const buttonEl =\n",
              "          document.querySelector('#df-21bf9e92-e7df-453c-8c08-b51851620010 button.colab-df-convert');\n",
              "        buttonEl.style.display =\n",
              "          google.colab.kernel.accessAllowed ? 'block' : 'none';\n",
              "\n",
              "        async function convertToInteractive(key) {\n",
              "          const element = document.querySelector('#df-21bf9e92-e7df-453c-8c08-b51851620010');\n",
              "          const dataTable =\n",
              "            await google.colab.kernel.invokeFunction('convertToInteractive',\n",
              "                                                     [key], {});\n",
              "          if (!dataTable) return;\n",
              "\n",
              "          const docLinkHtml = 'Like what you see? Visit the ' +\n",
              "            '<a target=\"_blank\" href=https://colab.research.google.com/notebooks/data_table.ipynb>data table notebook</a>'\n",
              "            + ' to learn more about interactive tables.';\n",
              "          element.innerHTML = '';\n",
              "          dataTable['output_type'] = 'display_data';\n",
              "          await google.colab.output.renderOutput(dataTable, element);\n",
              "          const docLink = document.createElement('div');\n",
              "          docLink.innerHTML = docLinkHtml;\n",
              "          element.appendChild(docLink);\n",
              "        }\n",
              "      </script>\n",
              "    </div>\n",
              "  </div>\n",
              "  "
            ]
          },
          "metadata": {},
          "execution_count": 225
        }
      ],
      "source": [
        "df.tail()"
      ]
    },
    {
      "cell_type": "markdown",
      "id": "72465f81",
      "metadata": {
        "id": "72465f81"
      },
      "source": [
        "## 데이터 크기 "
      ]
    },
    {
      "cell_type": "code",
      "execution_count": 226,
      "id": "012a275b",
      "metadata": {
        "scrolled": true,
        "id": "012a275b",
        "outputId": "658ed1bb-6cdf-49f8-efb3-846894e3b52c",
        "colab": {
          "base_uri": "https://localhost:8080/"
        }
      },
      "outputs": [
        {
          "output_type": "execute_result",
          "data": {
            "text/plain": [
              "(55726, 52)"
            ]
          },
          "metadata": {},
          "execution_count": 226
        }
      ],
      "source": [
        "df.shape"
      ]
    },
    {
      "cell_type": "markdown",
      "id": "4f5acb91",
      "metadata": {
        "id": "4f5acb91"
      },
      "source": [
        "## 결측치 확인"
      ]
    },
    {
      "cell_type": "code",
      "execution_count": 227,
      "id": "ea6de7f7",
      "metadata": {
        "id": "ea6de7f7",
        "outputId": "ef4bbf41-70f7-4d77-f75a-ac0ca863611b",
        "colab": {
          "base_uri": "https://localhost:8080/"
        }
      },
      "outputs": [
        {
          "output_type": "execute_result",
          "data": {
            "text/plain": [
              "사용월             0\n",
              "호선명             0\n",
              "지하철역            0\n",
              "04시-05시 승차인원    0\n",
              "04시-05시 하차인원    0\n",
              "05시-06시 승차인원    0\n",
              "05시-06시 하차인원    0\n",
              "06시-07시 승차인원    0\n",
              "06시-07시 하차인원    0\n",
              "07시-08시 승차인원    0\n",
              "07시-08시 하차인원    0\n",
              "08시-09시 승차인원    0\n",
              "08시-09시 하차인원    0\n",
              "09시-10시 승차인원    0\n",
              "09시-10시 하차인원    0\n",
              "10시-11시 승차인원    0\n",
              "10시-11시 하차인원    0\n",
              "11시-12시 승차인원    0\n",
              "11시-12시 하차인원    0\n",
              "12시-13시 승차인원    0\n",
              "12시-13시 하차인원    0\n",
              "13시-14시 승차인원    0\n",
              "13시-14시 하차인원    0\n",
              "14시-15시 승차인원    0\n",
              "14시-15시 하차인원    0\n",
              "15시-16시 승차인원    0\n",
              "15시-16시 하차인원    0\n",
              "16시-17시 승차인원    0\n",
              "16시-17시 하차인원    0\n",
              "17시-18시 승차인원    0\n",
              "17시-18시 하차인원    0\n",
              "18시-19시 승차인원    0\n",
              "18시-19시 하차인원    0\n",
              "19시-20시 승차인원    0\n",
              "19시-20시 하차인원    0\n",
              "20시-21시 승차인원    0\n",
              "20시-21시 하차인원    0\n",
              "21시-22시 승차인원    0\n",
              "21시-22시 하차인원    0\n",
              "22시-23시 승차인원    0\n",
              "22시-23시 하차인원    0\n",
              "23시-24시 승차인원    0\n",
              "23시-24시 하차인원    0\n",
              "00시-01시 승차인원    0\n",
              "00시-01시 하차인원    0\n",
              "01시-02시 승차인원    0\n",
              "01시-02시 하차인원    0\n",
              "02시-03시 승차인원    0\n",
              "02시-03시 하차인원    0\n",
              "03시-04시 승차인원    0\n",
              "03시-04시 하차인원    0\n",
              "작업일자            0\n",
              "dtype: int64"
            ]
          },
          "metadata": {},
          "execution_count": 227
        }
      ],
      "source": [
        "df.isnull().sum()"
      ]
    },
    {
      "cell_type": "markdown",
      "id": "d2909678",
      "metadata": {
        "id": "d2909678"
      },
      "source": [
        "## 컬럼별 데이터 확인"
      ]
    },
    {
      "cell_type": "code",
      "execution_count": 228,
      "id": "e43119b2",
      "metadata": {
        "scrolled": false,
        "id": "e43119b2",
        "outputId": "5184b5ff-79b4-41c9-841e-7ebd08c7439b",
        "colab": {
          "base_uri": "https://localhost:8080/"
        }
      },
      "outputs": [
        {
          "output_type": "execute_result",
          "data": {
            "text/plain": [
              "array([202211, 202210, 202209, 202208, 202207, 202206, 202205, 202204,\n",
              "       202203, 202202, 202201, 202112, 202111, 202110, 202109, 202108,\n",
              "       202107, 202106, 202105, 202104, 202103, 202102, 202101, 202012,\n",
              "       202011, 202010, 202009, 202008, 202007, 202006, 202005, 202004,\n",
              "       202003, 202002, 202001, 201912, 201911, 201910, 201909, 201908,\n",
              "       201907, 201906, 201905, 201904, 201903, 201902, 201901, 201812,\n",
              "       201811, 201810, 201809, 201808, 201807, 201806, 201805, 201804,\n",
              "       201803, 201802, 201801, 201712, 201711, 201710, 201709, 201708,\n",
              "       201707, 201706, 201705, 201704, 201703, 201702, 201701, 201612,\n",
              "       201611, 201610, 201609, 201608, 201607, 201606, 201605, 201604,\n",
              "       201603, 201602, 201601, 201512, 201511, 201510, 201509, 201508,\n",
              "       201507, 201506, 201505, 201504, 201503, 201502, 201501])"
            ]
          },
          "metadata": {},
          "execution_count": 228
        }
      ],
      "source": [
        "# 사용월\n",
        "df.사용월.unique()"
      ]
    },
    {
      "cell_type": "code",
      "execution_count": 229,
      "id": "cbcef584",
      "metadata": {
        "scrolled": false,
        "id": "cbcef584",
        "outputId": "aaee0f7e-58e5-4625-dea2-06ffa7493467",
        "colab": {
          "base_uri": "https://localhost:8080/"
        }
      },
      "outputs": [
        {
          "output_type": "execute_result",
          "data": {
            "text/plain": [
              "array(['1호선', '2호선', '3호선', '4호선', '5호선', '6호선', '7호선', '8호선', '9호선',\n",
              "       '9호선2~3단계', '경강선', '경부선', '경원선', '경의선', '경인선', '경춘선', '공항철도 1호선',\n",
              "       '과천선', '분당선', '수인선', '신림선', '안산선', '우이신설선', '일산선', '장항선', '중앙선',\n",
              "       '9호선2단계'], dtype=object)"
            ]
          },
          "metadata": {},
          "execution_count": 229
        }
      ],
      "source": [
        "# 호선명\n",
        "df.호선명.unique()"
      ]
    },
    {
      "cell_type": "markdown",
      "id": "a01084c5",
      "metadata": {
        "id": "a01084c5"
      },
      "source": [
        "## 데이터 타입 확인 및 변경"
      ]
    },
    {
      "cell_type": "code",
      "execution_count": 230,
      "id": "ec8315ec",
      "metadata": {
        "scrolled": false,
        "id": "ec8315ec",
        "outputId": "935ae923-07f6-436f-fc1b-b67ab0dc2202",
        "colab": {
          "base_uri": "https://localhost:8080/"
        }
      },
      "outputs": [
        {
          "output_type": "execute_result",
          "data": {
            "text/plain": [
              "사용월              int64\n",
              "호선명             object\n",
              "지하철역            object\n",
              "04시-05시 승차인원     int64\n",
              "04시-05시 하차인원     int64\n",
              "05시-06시 승차인원     int64\n",
              "05시-06시 하차인원     int64\n",
              "06시-07시 승차인원     int64\n",
              "06시-07시 하차인원     int64\n",
              "07시-08시 승차인원     int64\n",
              "07시-08시 하차인원     int64\n",
              "08시-09시 승차인원     int64\n",
              "08시-09시 하차인원     int64\n",
              "09시-10시 승차인원     int64\n",
              "09시-10시 하차인원     int64\n",
              "10시-11시 승차인원     int64\n",
              "10시-11시 하차인원     int64\n",
              "11시-12시 승차인원     int64\n",
              "11시-12시 하차인원     int64\n",
              "12시-13시 승차인원     int64\n",
              "12시-13시 하차인원     int64\n",
              "13시-14시 승차인원     int64\n",
              "13시-14시 하차인원     int64\n",
              "14시-15시 승차인원     int64\n",
              "14시-15시 하차인원     int64\n",
              "15시-16시 승차인원     int64\n",
              "15시-16시 하차인원     int64\n",
              "16시-17시 승차인원     int64\n",
              "16시-17시 하차인원     int64\n",
              "17시-18시 승차인원     int64\n",
              "17시-18시 하차인원     int64\n",
              "18시-19시 승차인원     int64\n",
              "18시-19시 하차인원     int64\n",
              "19시-20시 승차인원     int64\n",
              "19시-20시 하차인원     int64\n",
              "20시-21시 승차인원     int64\n",
              "20시-21시 하차인원     int64\n",
              "21시-22시 승차인원     int64\n",
              "21시-22시 하차인원     int64\n",
              "22시-23시 승차인원     int64\n",
              "22시-23시 하차인원     int64\n",
              "23시-24시 승차인원     int64\n",
              "23시-24시 하차인원     int64\n",
              "00시-01시 승차인원     int64\n",
              "00시-01시 하차인원     int64\n",
              "01시-02시 승차인원     int64\n",
              "01시-02시 하차인원     int64\n",
              "02시-03시 승차인원     int64\n",
              "02시-03시 하차인원     int64\n",
              "03시-04시 승차인원     int64\n",
              "03시-04시 하차인원     int64\n",
              "작업일자             int64\n",
              "dtype: object"
            ]
          },
          "metadata": {},
          "execution_count": 230
        }
      ],
      "source": [
        "df.dtypes"
      ]
    },
    {
      "cell_type": "code",
      "execution_count": 231,
      "id": "cc83fdb4",
      "metadata": {
        "id": "cc83fdb4"
      },
      "outputs": [],
      "source": [
        "df['사용월'] = df['사용월'].astype('str')"
      ]
    },
    {
      "cell_type": "markdown",
      "id": "274e06e0",
      "metadata": {
        "id": "274e06e0"
      },
      "source": [
        "## 불필요한 컬럼 삭제"
      ]
    },
    {
      "cell_type": "code",
      "execution_count": 232,
      "id": "10de106e",
      "metadata": {
        "id": "10de106e"
      },
      "outputs": [],
      "source": [
        "del df['작업일자']"
      ]
    },
    {
      "cell_type": "markdown",
      "id": "fc5a56ba",
      "metadata": {
        "id": "fc5a56ba"
      },
      "source": [
        "## 승차/하차 테이블 분리"
      ]
    },
    {
      "cell_type": "markdown",
      "id": "c418201a",
      "metadata": {
        "id": "c418201a"
      },
      "source": [
        "### 승차 테이블 만들기"
      ]
    },
    {
      "cell_type": "code",
      "execution_count": 233,
      "id": "efb153a2",
      "metadata": {
        "scrolled": false,
        "id": "efb153a2",
        "outputId": "6b19b907-5ddb-4eca-d0a2-e8b9a954c04d",
        "colab": {
          "base_uri": "https://localhost:8080/",
          "height": 401
        }
      },
      "outputs": [
        {
          "output_type": "execute_result",
          "data": {
            "text/plain": [
              "      사용월  호선명 지하철역  04시-05시 승차인원  04시-05시 하차인원  05시-06시 승차인원  05시-06시 하차인원  \\\n",
              "0  202211  1호선  동대문           728             4         10942          1871   \n",
              "1  202211  1호선  동묘앞           205             4          3082          1052   \n",
              "2  202211  1호선  서울역           698            24          8634          8662   \n",
              "3  202211  1호선   시청           121             0          2050          4369   \n",
              "4  202211  1호선  신설동           372            15          9256          2278   \n",
              "\n",
              "   06시-07시 승차인원  06시-07시 하차인원  07시-08시 승차인원  ...  23시-24시 승차인원  23시-24시 하차인원  \\\n",
              "0          8782          6391         14368  ...          4294          7946   \n",
              "1          3731          4674          6555  ...          1230          3580   \n",
              "2         13165         49665         42055  ...         22735         13413   \n",
              "3          3391         23225          7286  ...         10081          3194   \n",
              "4          9260          8707         20784  ...          3316          7874   \n",
              "\n",
              "   00시-01시 승차인원  00시-01시 하차인원  01시-02시 승차인원  01시-02시 하차인원  02시-03시 승차인원  \\\n",
              "0           518          2191             5           206             0   \n",
              "1            89          1322             2           332             0   \n",
              "2          2321          2639             2           192             0   \n",
              "3           872           850             1            26             0   \n",
              "4           370          2070             1             6             0   \n",
              "\n",
              "   02시-03시 하차인원  03시-04시 승차인원  03시-04시 하차인원  \n",
              "0             1             0             0  \n",
              "1             1             0             0  \n",
              "2             0             0             0  \n",
              "3             0             0             0  \n",
              "4             0             0             0  \n",
              "\n",
              "[5 rows x 51 columns]"
            ],
            "text/html": [
              "\n",
              "  <div id=\"df-d7222d5f-d154-40f1-b9c6-17d07e951209\">\n",
              "    <div class=\"colab-df-container\">\n",
              "      <div>\n",
              "<style scoped>\n",
              "    .dataframe tbody tr th:only-of-type {\n",
              "        vertical-align: middle;\n",
              "    }\n",
              "\n",
              "    .dataframe tbody tr th {\n",
              "        vertical-align: top;\n",
              "    }\n",
              "\n",
              "    .dataframe thead th {\n",
              "        text-align: right;\n",
              "    }\n",
              "</style>\n",
              "<table border=\"1\" class=\"dataframe\">\n",
              "  <thead>\n",
              "    <tr style=\"text-align: right;\">\n",
              "      <th></th>\n",
              "      <th>사용월</th>\n",
              "      <th>호선명</th>\n",
              "      <th>지하철역</th>\n",
              "      <th>04시-05시 승차인원</th>\n",
              "      <th>04시-05시 하차인원</th>\n",
              "      <th>05시-06시 승차인원</th>\n",
              "      <th>05시-06시 하차인원</th>\n",
              "      <th>06시-07시 승차인원</th>\n",
              "      <th>06시-07시 하차인원</th>\n",
              "      <th>07시-08시 승차인원</th>\n",
              "      <th>...</th>\n",
              "      <th>23시-24시 승차인원</th>\n",
              "      <th>23시-24시 하차인원</th>\n",
              "      <th>00시-01시 승차인원</th>\n",
              "      <th>00시-01시 하차인원</th>\n",
              "      <th>01시-02시 승차인원</th>\n",
              "      <th>01시-02시 하차인원</th>\n",
              "      <th>02시-03시 승차인원</th>\n",
              "      <th>02시-03시 하차인원</th>\n",
              "      <th>03시-04시 승차인원</th>\n",
              "      <th>03시-04시 하차인원</th>\n",
              "    </tr>\n",
              "  </thead>\n",
              "  <tbody>\n",
              "    <tr>\n",
              "      <th>0</th>\n",
              "      <td>202211</td>\n",
              "      <td>1호선</td>\n",
              "      <td>동대문</td>\n",
              "      <td>728</td>\n",
              "      <td>4</td>\n",
              "      <td>10942</td>\n",
              "      <td>1871</td>\n",
              "      <td>8782</td>\n",
              "      <td>6391</td>\n",
              "      <td>14368</td>\n",
              "      <td>...</td>\n",
              "      <td>4294</td>\n",
              "      <td>7946</td>\n",
              "      <td>518</td>\n",
              "      <td>2191</td>\n",
              "      <td>5</td>\n",
              "      <td>206</td>\n",
              "      <td>0</td>\n",
              "      <td>1</td>\n",
              "      <td>0</td>\n",
              "      <td>0</td>\n",
              "    </tr>\n",
              "    <tr>\n",
              "      <th>1</th>\n",
              "      <td>202211</td>\n",
              "      <td>1호선</td>\n",
              "      <td>동묘앞</td>\n",
              "      <td>205</td>\n",
              "      <td>4</td>\n",
              "      <td>3082</td>\n",
              "      <td>1052</td>\n",
              "      <td>3731</td>\n",
              "      <td>4674</td>\n",
              "      <td>6555</td>\n",
              "      <td>...</td>\n",
              "      <td>1230</td>\n",
              "      <td>3580</td>\n",
              "      <td>89</td>\n",
              "      <td>1322</td>\n",
              "      <td>2</td>\n",
              "      <td>332</td>\n",
              "      <td>0</td>\n",
              "      <td>1</td>\n",
              "      <td>0</td>\n",
              "      <td>0</td>\n",
              "    </tr>\n",
              "    <tr>\n",
              "      <th>2</th>\n",
              "      <td>202211</td>\n",
              "      <td>1호선</td>\n",
              "      <td>서울역</td>\n",
              "      <td>698</td>\n",
              "      <td>24</td>\n",
              "      <td>8634</td>\n",
              "      <td>8662</td>\n",
              "      <td>13165</td>\n",
              "      <td>49665</td>\n",
              "      <td>42055</td>\n",
              "      <td>...</td>\n",
              "      <td>22735</td>\n",
              "      <td>13413</td>\n",
              "      <td>2321</td>\n",
              "      <td>2639</td>\n",
              "      <td>2</td>\n",
              "      <td>192</td>\n",
              "      <td>0</td>\n",
              "      <td>0</td>\n",
              "      <td>0</td>\n",
              "      <td>0</td>\n",
              "    </tr>\n",
              "    <tr>\n",
              "      <th>3</th>\n",
              "      <td>202211</td>\n",
              "      <td>1호선</td>\n",
              "      <td>시청</td>\n",
              "      <td>121</td>\n",
              "      <td>0</td>\n",
              "      <td>2050</td>\n",
              "      <td>4369</td>\n",
              "      <td>3391</td>\n",
              "      <td>23225</td>\n",
              "      <td>7286</td>\n",
              "      <td>...</td>\n",
              "      <td>10081</td>\n",
              "      <td>3194</td>\n",
              "      <td>872</td>\n",
              "      <td>850</td>\n",
              "      <td>1</td>\n",
              "      <td>26</td>\n",
              "      <td>0</td>\n",
              "      <td>0</td>\n",
              "      <td>0</td>\n",
              "      <td>0</td>\n",
              "    </tr>\n",
              "    <tr>\n",
              "      <th>4</th>\n",
              "      <td>202211</td>\n",
              "      <td>1호선</td>\n",
              "      <td>신설동</td>\n",
              "      <td>372</td>\n",
              "      <td>15</td>\n",
              "      <td>9256</td>\n",
              "      <td>2278</td>\n",
              "      <td>9260</td>\n",
              "      <td>8707</td>\n",
              "      <td>20784</td>\n",
              "      <td>...</td>\n",
              "      <td>3316</td>\n",
              "      <td>7874</td>\n",
              "      <td>370</td>\n",
              "      <td>2070</td>\n",
              "      <td>1</td>\n",
              "      <td>6</td>\n",
              "      <td>0</td>\n",
              "      <td>0</td>\n",
              "      <td>0</td>\n",
              "      <td>0</td>\n",
              "    </tr>\n",
              "  </tbody>\n",
              "</table>\n",
              "<p>5 rows × 51 columns</p>\n",
              "</div>\n",
              "      <button class=\"colab-df-convert\" onclick=\"convertToInteractive('df-d7222d5f-d154-40f1-b9c6-17d07e951209')\"\n",
              "              title=\"Convert this dataframe to an interactive table.\"\n",
              "              style=\"display:none;\">\n",
              "        \n",
              "  <svg xmlns=\"http://www.w3.org/2000/svg\" height=\"24px\"viewBox=\"0 0 24 24\"\n",
              "       width=\"24px\">\n",
              "    <path d=\"M0 0h24v24H0V0z\" fill=\"none\"/>\n",
              "    <path d=\"M18.56 5.44l.94 2.06.94-2.06 2.06-.94-2.06-.94-.94-2.06-.94 2.06-2.06.94zm-11 1L8.5 8.5l.94-2.06 2.06-.94-2.06-.94L8.5 2.5l-.94 2.06-2.06.94zm10 10l.94 2.06.94-2.06 2.06-.94-2.06-.94-.94-2.06-.94 2.06-2.06.94z\"/><path d=\"M17.41 7.96l-1.37-1.37c-.4-.4-.92-.59-1.43-.59-.52 0-1.04.2-1.43.59L10.3 9.45l-7.72 7.72c-.78.78-.78 2.05 0 2.83L4 21.41c.39.39.9.59 1.41.59.51 0 1.02-.2 1.41-.59l7.78-7.78 2.81-2.81c.8-.78.8-2.07 0-2.86zM5.41 20L4 18.59l7.72-7.72 1.47 1.35L5.41 20z\"/>\n",
              "  </svg>\n",
              "      </button>\n",
              "      \n",
              "  <style>\n",
              "    .colab-df-container {\n",
              "      display:flex;\n",
              "      flex-wrap:wrap;\n",
              "      gap: 12px;\n",
              "    }\n",
              "\n",
              "    .colab-df-convert {\n",
              "      background-color: #E8F0FE;\n",
              "      border: none;\n",
              "      border-radius: 50%;\n",
              "      cursor: pointer;\n",
              "      display: none;\n",
              "      fill: #1967D2;\n",
              "      height: 32px;\n",
              "      padding: 0 0 0 0;\n",
              "      width: 32px;\n",
              "    }\n",
              "\n",
              "    .colab-df-convert:hover {\n",
              "      background-color: #E2EBFA;\n",
              "      box-shadow: 0px 1px 2px rgba(60, 64, 67, 0.3), 0px 1px 3px 1px rgba(60, 64, 67, 0.15);\n",
              "      fill: #174EA6;\n",
              "    }\n",
              "\n",
              "    [theme=dark] .colab-df-convert {\n",
              "      background-color: #3B4455;\n",
              "      fill: #D2E3FC;\n",
              "    }\n",
              "\n",
              "    [theme=dark] .colab-df-convert:hover {\n",
              "      background-color: #434B5C;\n",
              "      box-shadow: 0px 1px 3px 1px rgba(0, 0, 0, 0.15);\n",
              "      filter: drop-shadow(0px 1px 2px rgba(0, 0, 0, 0.3));\n",
              "      fill: #FFFFFF;\n",
              "    }\n",
              "  </style>\n",
              "\n",
              "      <script>\n",
              "        const buttonEl =\n",
              "          document.querySelector('#df-d7222d5f-d154-40f1-b9c6-17d07e951209 button.colab-df-convert');\n",
              "        buttonEl.style.display =\n",
              "          google.colab.kernel.accessAllowed ? 'block' : 'none';\n",
              "\n",
              "        async function convertToInteractive(key) {\n",
              "          const element = document.querySelector('#df-d7222d5f-d154-40f1-b9c6-17d07e951209');\n",
              "          const dataTable =\n",
              "            await google.colab.kernel.invokeFunction('convertToInteractive',\n",
              "                                                     [key], {});\n",
              "          if (!dataTable) return;\n",
              "\n",
              "          const docLinkHtml = 'Like what you see? Visit the ' +\n",
              "            '<a target=\"_blank\" href=https://colab.research.google.com/notebooks/data_table.ipynb>data table notebook</a>'\n",
              "            + ' to learn more about interactive tables.';\n",
              "          element.innerHTML = '';\n",
              "          dataTable['output_type'] = 'display_data';\n",
              "          await google.colab.output.renderOutput(dataTable, element);\n",
              "          const docLink = document.createElement('div');\n",
              "          docLink.innerHTML = docLinkHtml;\n",
              "          element.appendChild(docLink);\n",
              "        }\n",
              "      </script>\n",
              "    </div>\n",
              "  </div>\n",
              "  "
            ]
          },
          "metadata": {},
          "execution_count": 233
        }
      ],
      "source": [
        "df.head()"
      ]
    },
    {
      "cell_type": "code",
      "execution_count": 234,
      "id": "805c78a1",
      "metadata": {
        "id": "805c78a1"
      },
      "outputs": [],
      "source": [
        "# 공통 컬럼\n",
        "df_all = df[['사용월', '호선명', '지하철역']]\n",
        "# 승차 컬럼만 가져오기\n",
        "df_on = df.iloc[:, 3::2]\n",
        "df_on.columns = df_on.columns.str.split(\" \").str[0]"
      ]
    },
    {
      "cell_type": "code",
      "execution_count": 235,
      "id": "84c96ca1",
      "metadata": {
        "id": "84c96ca1"
      },
      "outputs": [],
      "source": [
        "# 공통컬럼과 승차컬럼 연결하기\n",
        "df_all_on = pd.concat([df_all, df_on], axis=1)"
      ]
    },
    {
      "cell_type": "markdown",
      "id": "cd2bb995",
      "metadata": {
        "id": "cd2bb995"
      },
      "source": [
        "### 하차 테이블 만들기"
      ]
    },
    {
      "cell_type": "code",
      "execution_count": 236,
      "id": "410bed04",
      "metadata": {
        "id": "410bed04"
      },
      "outputs": [],
      "source": [
        "# 공통 컬럼\n",
        "df_all = df[['사용월', '호선명', '지하철역']]\n",
        "# 하차 컬럼만 가져오기\n",
        "df_off = df.iloc[:, 4::2]\n",
        "df_off.columns = df_off.columns.str.split(\" \").str[0]"
      ]
    },
    {
      "cell_type": "code",
      "execution_count": 237,
      "id": "7eb38239",
      "metadata": {
        "scrolled": false,
        "id": "7eb38239"
      },
      "outputs": [],
      "source": [
        "# 공통컬럼과 하차컬럼 연결하기\n",
        "df_all_off = pd.concat([df_all, df_off], axis=1)"
      ]
    },
    {
      "cell_type": "markdown",
      "id": "46d78b5c",
      "metadata": {
        "id": "46d78b5c"
      },
      "source": [
        "# 출퇴근시간 역별 승하차인원 분석"
      ]
    },
    {
      "cell_type": "markdown",
      "id": "e92f38ee",
      "metadata": {
        "id": "e92f38ee"
      },
      "source": [
        "* 최근 월을 기준으로 한 승하차 데이터프레임 생성"
      ]
    },
    {
      "cell_type": "code",
      "execution_count": 329,
      "id": "4be667c0",
      "metadata": {
        "id": "4be667c0"
      },
      "outputs": [],
      "source": [
        "df_in_202211 = df_all_on[(df_all_on['사용월']=='202211')]\n",
        "df_out_202211 = df_all_off[(df_all_off['사용월']=='202211')]"
      ]
    },
    {
      "cell_type": "markdown",
      "id": "8bb757a9",
      "metadata": {
        "id": "8bb757a9"
      },
      "source": [
        "* 출근시간에 가장 많은 사람이 승차하는 역은 어디일까? (08시-09시)"
      ]
    },
    {
      "cell_type": "code",
      "execution_count": 330,
      "id": "572fcdce",
      "metadata": {
        "id": "572fcdce",
        "outputId": "dbd1fa07-b5ba-47a8-e6f4-e51566b4f50f",
        "colab": {
          "base_uri": "https://localhost:8080/",
          "height": 81
        }
      },
      "outputs": [
        {
          "output_type": "execute_result",
          "data": {
            "text/plain": [
              "   지하철역  08시-09시\n",
              "37   신림   296345"
            ],
            "text/html": [
              "\n",
              "  <div id=\"df-2a3eb3e1-7dd7-475a-a0fb-151030ec8df6\">\n",
              "    <div class=\"colab-df-container\">\n",
              "      <div>\n",
              "<style scoped>\n",
              "    .dataframe tbody tr th:only-of-type {\n",
              "        vertical-align: middle;\n",
              "    }\n",
              "\n",
              "    .dataframe tbody tr th {\n",
              "        vertical-align: top;\n",
              "    }\n",
              "\n",
              "    .dataframe thead th {\n",
              "        text-align: right;\n",
              "    }\n",
              "</style>\n",
              "<table border=\"1\" class=\"dataframe\">\n",
              "  <thead>\n",
              "    <tr style=\"text-align: right;\">\n",
              "      <th></th>\n",
              "      <th>지하철역</th>\n",
              "      <th>08시-09시</th>\n",
              "    </tr>\n",
              "  </thead>\n",
              "  <tbody>\n",
              "    <tr>\n",
              "      <th>37</th>\n",
              "      <td>신림</td>\n",
              "      <td>296345</td>\n",
              "    </tr>\n",
              "  </tbody>\n",
              "</table>\n",
              "</div>\n",
              "      <button class=\"colab-df-convert\" onclick=\"convertToInteractive('df-2a3eb3e1-7dd7-475a-a0fb-151030ec8df6')\"\n",
              "              title=\"Convert this dataframe to an interactive table.\"\n",
              "              style=\"display:none;\">\n",
              "        \n",
              "  <svg xmlns=\"http://www.w3.org/2000/svg\" height=\"24px\"viewBox=\"0 0 24 24\"\n",
              "       width=\"24px\">\n",
              "    <path d=\"M0 0h24v24H0V0z\" fill=\"none\"/>\n",
              "    <path d=\"M18.56 5.44l.94 2.06.94-2.06 2.06-.94-2.06-.94-.94-2.06-.94 2.06-2.06.94zm-11 1L8.5 8.5l.94-2.06 2.06-.94-2.06-.94L8.5 2.5l-.94 2.06-2.06.94zm10 10l.94 2.06.94-2.06 2.06-.94-2.06-.94-.94-2.06-.94 2.06-2.06.94z\"/><path d=\"M17.41 7.96l-1.37-1.37c-.4-.4-.92-.59-1.43-.59-.52 0-1.04.2-1.43.59L10.3 9.45l-7.72 7.72c-.78.78-.78 2.05 0 2.83L4 21.41c.39.39.9.59 1.41.59.51 0 1.02-.2 1.41-.59l7.78-7.78 2.81-2.81c.8-.78.8-2.07 0-2.86zM5.41 20L4 18.59l7.72-7.72 1.47 1.35L5.41 20z\"/>\n",
              "  </svg>\n",
              "      </button>\n",
              "      \n",
              "  <style>\n",
              "    .colab-df-container {\n",
              "      display:flex;\n",
              "      flex-wrap:wrap;\n",
              "      gap: 12px;\n",
              "    }\n",
              "\n",
              "    .colab-df-convert {\n",
              "      background-color: #E8F0FE;\n",
              "      border: none;\n",
              "      border-radius: 50%;\n",
              "      cursor: pointer;\n",
              "      display: none;\n",
              "      fill: #1967D2;\n",
              "      height: 32px;\n",
              "      padding: 0 0 0 0;\n",
              "      width: 32px;\n",
              "    }\n",
              "\n",
              "    .colab-df-convert:hover {\n",
              "      background-color: #E2EBFA;\n",
              "      box-shadow: 0px 1px 2px rgba(60, 64, 67, 0.3), 0px 1px 3px 1px rgba(60, 64, 67, 0.15);\n",
              "      fill: #174EA6;\n",
              "    }\n",
              "\n",
              "    [theme=dark] .colab-df-convert {\n",
              "      background-color: #3B4455;\n",
              "      fill: #D2E3FC;\n",
              "    }\n",
              "\n",
              "    [theme=dark] .colab-df-convert:hover {\n",
              "      background-color: #434B5C;\n",
              "      box-shadow: 0px 1px 3px 1px rgba(0, 0, 0, 0.15);\n",
              "      filter: drop-shadow(0px 1px 2px rgba(0, 0, 0, 0.3));\n",
              "      fill: #FFFFFF;\n",
              "    }\n",
              "  </style>\n",
              "\n",
              "      <script>\n",
              "        const buttonEl =\n",
              "          document.querySelector('#df-2a3eb3e1-7dd7-475a-a0fb-151030ec8df6 button.colab-df-convert');\n",
              "        buttonEl.style.display =\n",
              "          google.colab.kernel.accessAllowed ? 'block' : 'none';\n",
              "\n",
              "        async function convertToInteractive(key) {\n",
              "          const element = document.querySelector('#df-2a3eb3e1-7dd7-475a-a0fb-151030ec8df6');\n",
              "          const dataTable =\n",
              "            await google.colab.kernel.invokeFunction('convertToInteractive',\n",
              "                                                     [key], {});\n",
              "          if (!dataTable) return;\n",
              "\n",
              "          const docLinkHtml = 'Like what you see? Visit the ' +\n",
              "            '<a target=\"_blank\" href=https://colab.research.google.com/notebooks/data_table.ipynb>data table notebook</a>'\n",
              "            + ' to learn more about interactive tables.';\n",
              "          element.innerHTML = '';\n",
              "          dataTable['output_type'] = 'display_data';\n",
              "          await google.colab.output.renderOutput(dataTable, element);\n",
              "          const docLink = document.createElement('div');\n",
              "          docLink.innerHTML = docLinkHtml;\n",
              "          element.appendChild(docLink);\n",
              "        }\n",
              "      </script>\n",
              "    </div>\n",
              "  </div>\n",
              "  "
            ]
          },
          "metadata": {},
          "execution_count": 330
        }
      ],
      "source": [
        "df_in_202211.loc[(df_in_202211[df_in_202211['08시-09시']==df_in_202211['08시-09시'].max()].index.values), ['지하철역', '08시-09시']]"
      ]
    },
    {
      "cell_type": "markdown",
      "id": "308ecebf",
      "metadata": {
        "id": "308ecebf"
      },
      "source": [
        "* 출근시간에 가장 많은 사람이 하차하는 역은 어디일까?(09시-10시)"
      ]
    },
    {
      "cell_type": "code",
      "execution_count": 331,
      "id": "655bc2f5",
      "metadata": {
        "id": "655bc2f5",
        "outputId": "32355e71-7d69-4b2a-e3ba-6b07598ae270",
        "colab": {
          "base_uri": "https://localhost:8080/",
          "height": 81
        }
      },
      "outputs": [
        {
          "output_type": "execute_result",
          "data": {
            "text/plain": [
              "   지하철역  09시-10시\n",
              "43   역삼   329492"
            ],
            "text/html": [
              "\n",
              "  <div id=\"df-eb0731cf-869a-47d3-9b30-abb70335d306\">\n",
              "    <div class=\"colab-df-container\">\n",
              "      <div>\n",
              "<style scoped>\n",
              "    .dataframe tbody tr th:only-of-type {\n",
              "        vertical-align: middle;\n",
              "    }\n",
              "\n",
              "    .dataframe tbody tr th {\n",
              "        vertical-align: top;\n",
              "    }\n",
              "\n",
              "    .dataframe thead th {\n",
              "        text-align: right;\n",
              "    }\n",
              "</style>\n",
              "<table border=\"1\" class=\"dataframe\">\n",
              "  <thead>\n",
              "    <tr style=\"text-align: right;\">\n",
              "      <th></th>\n",
              "      <th>지하철역</th>\n",
              "      <th>09시-10시</th>\n",
              "    </tr>\n",
              "  </thead>\n",
              "  <tbody>\n",
              "    <tr>\n",
              "      <th>43</th>\n",
              "      <td>역삼</td>\n",
              "      <td>329492</td>\n",
              "    </tr>\n",
              "  </tbody>\n",
              "</table>\n",
              "</div>\n",
              "      <button class=\"colab-df-convert\" onclick=\"convertToInteractive('df-eb0731cf-869a-47d3-9b30-abb70335d306')\"\n",
              "              title=\"Convert this dataframe to an interactive table.\"\n",
              "              style=\"display:none;\">\n",
              "        \n",
              "  <svg xmlns=\"http://www.w3.org/2000/svg\" height=\"24px\"viewBox=\"0 0 24 24\"\n",
              "       width=\"24px\">\n",
              "    <path d=\"M0 0h24v24H0V0z\" fill=\"none\"/>\n",
              "    <path d=\"M18.56 5.44l.94 2.06.94-2.06 2.06-.94-2.06-.94-.94-2.06-.94 2.06-2.06.94zm-11 1L8.5 8.5l.94-2.06 2.06-.94-2.06-.94L8.5 2.5l-.94 2.06-2.06.94zm10 10l.94 2.06.94-2.06 2.06-.94-2.06-.94-.94-2.06-.94 2.06-2.06.94z\"/><path d=\"M17.41 7.96l-1.37-1.37c-.4-.4-.92-.59-1.43-.59-.52 0-1.04.2-1.43.59L10.3 9.45l-7.72 7.72c-.78.78-.78 2.05 0 2.83L4 21.41c.39.39.9.59 1.41.59.51 0 1.02-.2 1.41-.59l7.78-7.78 2.81-2.81c.8-.78.8-2.07 0-2.86zM5.41 20L4 18.59l7.72-7.72 1.47 1.35L5.41 20z\"/>\n",
              "  </svg>\n",
              "      </button>\n",
              "      \n",
              "  <style>\n",
              "    .colab-df-container {\n",
              "      display:flex;\n",
              "      flex-wrap:wrap;\n",
              "      gap: 12px;\n",
              "    }\n",
              "\n",
              "    .colab-df-convert {\n",
              "      background-color: #E8F0FE;\n",
              "      border: none;\n",
              "      border-radius: 50%;\n",
              "      cursor: pointer;\n",
              "      display: none;\n",
              "      fill: #1967D2;\n",
              "      height: 32px;\n",
              "      padding: 0 0 0 0;\n",
              "      width: 32px;\n",
              "    }\n",
              "\n",
              "    .colab-df-convert:hover {\n",
              "      background-color: #E2EBFA;\n",
              "      box-shadow: 0px 1px 2px rgba(60, 64, 67, 0.3), 0px 1px 3px 1px rgba(60, 64, 67, 0.15);\n",
              "      fill: #174EA6;\n",
              "    }\n",
              "\n",
              "    [theme=dark] .colab-df-convert {\n",
              "      background-color: #3B4455;\n",
              "      fill: #D2E3FC;\n",
              "    }\n",
              "\n",
              "    [theme=dark] .colab-df-convert:hover {\n",
              "      background-color: #434B5C;\n",
              "      box-shadow: 0px 1px 3px 1px rgba(0, 0, 0, 0.15);\n",
              "      filter: drop-shadow(0px 1px 2px rgba(0, 0, 0, 0.3));\n",
              "      fill: #FFFFFF;\n",
              "    }\n",
              "  </style>\n",
              "\n",
              "      <script>\n",
              "        const buttonEl =\n",
              "          document.querySelector('#df-eb0731cf-869a-47d3-9b30-abb70335d306 button.colab-df-convert');\n",
              "        buttonEl.style.display =\n",
              "          google.colab.kernel.accessAllowed ? 'block' : 'none';\n",
              "\n",
              "        async function convertToInteractive(key) {\n",
              "          const element = document.querySelector('#df-eb0731cf-869a-47d3-9b30-abb70335d306');\n",
              "          const dataTable =\n",
              "            await google.colab.kernel.invokeFunction('convertToInteractive',\n",
              "                                                     [key], {});\n",
              "          if (!dataTable) return;\n",
              "\n",
              "          const docLinkHtml = 'Like what you see? Visit the ' +\n",
              "            '<a target=\"_blank\" href=https://colab.research.google.com/notebooks/data_table.ipynb>data table notebook</a>'\n",
              "            + ' to learn more about interactive tables.';\n",
              "          element.innerHTML = '';\n",
              "          dataTable['output_type'] = 'display_data';\n",
              "          await google.colab.output.renderOutput(dataTable, element);\n",
              "          const docLink = document.createElement('div');\n",
              "          docLink.innerHTML = docLinkHtml;\n",
              "          element.appendChild(docLink);\n",
              "        }\n",
              "      </script>\n",
              "    </div>\n",
              "  </div>\n",
              "  "
            ]
          },
          "metadata": {},
          "execution_count": 331
        }
      ],
      "source": [
        "df_out_202211.loc[(df_out_202211[df_out_202211['09시-10시']==df_out_202211['09시-10시'].max()].index.values),['지하철역', '09시-10시']]"
      ]
    },
    {
      "cell_type": "markdown",
      "id": "47b9d477",
      "metadata": {
        "id": "47b9d477"
      },
      "source": [
        "* 퇴근시간에 가장 많은 사람이 승차하는 역은 어디일까?(18시-19시)"
      ]
    },
    {
      "cell_type": "code",
      "execution_count": 332,
      "id": "a24666a1",
      "metadata": {
        "scrolled": false,
        "id": "a24666a1",
        "outputId": "849497da-a1eb-4fbe-fa94-c55010218048",
        "colab": {
          "base_uri": "https://localhost:8080/",
          "height": 81
        }
      },
      "outputs": [
        {
          "output_type": "execute_result",
          "data": {
            "text/plain": [
              "        지하철역  18시-19시\n",
              "26  삼성(무역센터)   318212"
            ],
            "text/html": [
              "\n",
              "  <div id=\"df-157d12e9-f2f0-4bd3-9dc6-8f6292c274e3\">\n",
              "    <div class=\"colab-df-container\">\n",
              "      <div>\n",
              "<style scoped>\n",
              "    .dataframe tbody tr th:only-of-type {\n",
              "        vertical-align: middle;\n",
              "    }\n",
              "\n",
              "    .dataframe tbody tr th {\n",
              "        vertical-align: top;\n",
              "    }\n",
              "\n",
              "    .dataframe thead th {\n",
              "        text-align: right;\n",
              "    }\n",
              "</style>\n",
              "<table border=\"1\" class=\"dataframe\">\n",
              "  <thead>\n",
              "    <tr style=\"text-align: right;\">\n",
              "      <th></th>\n",
              "      <th>지하철역</th>\n",
              "      <th>18시-19시</th>\n",
              "    </tr>\n",
              "  </thead>\n",
              "  <tbody>\n",
              "    <tr>\n",
              "      <th>26</th>\n",
              "      <td>삼성(무역센터)</td>\n",
              "      <td>318212</td>\n",
              "    </tr>\n",
              "  </tbody>\n",
              "</table>\n",
              "</div>\n",
              "      <button class=\"colab-df-convert\" onclick=\"convertToInteractive('df-157d12e9-f2f0-4bd3-9dc6-8f6292c274e3')\"\n",
              "              title=\"Convert this dataframe to an interactive table.\"\n",
              "              style=\"display:none;\">\n",
              "        \n",
              "  <svg xmlns=\"http://www.w3.org/2000/svg\" height=\"24px\"viewBox=\"0 0 24 24\"\n",
              "       width=\"24px\">\n",
              "    <path d=\"M0 0h24v24H0V0z\" fill=\"none\"/>\n",
              "    <path d=\"M18.56 5.44l.94 2.06.94-2.06 2.06-.94-2.06-.94-.94-2.06-.94 2.06-2.06.94zm-11 1L8.5 8.5l.94-2.06 2.06-.94-2.06-.94L8.5 2.5l-.94 2.06-2.06.94zm10 10l.94 2.06.94-2.06 2.06-.94-2.06-.94-.94-2.06-.94 2.06-2.06.94z\"/><path d=\"M17.41 7.96l-1.37-1.37c-.4-.4-.92-.59-1.43-.59-.52 0-1.04.2-1.43.59L10.3 9.45l-7.72 7.72c-.78.78-.78 2.05 0 2.83L4 21.41c.39.39.9.59 1.41.59.51 0 1.02-.2 1.41-.59l7.78-7.78 2.81-2.81c.8-.78.8-2.07 0-2.86zM5.41 20L4 18.59l7.72-7.72 1.47 1.35L5.41 20z\"/>\n",
              "  </svg>\n",
              "      </button>\n",
              "      \n",
              "  <style>\n",
              "    .colab-df-container {\n",
              "      display:flex;\n",
              "      flex-wrap:wrap;\n",
              "      gap: 12px;\n",
              "    }\n",
              "\n",
              "    .colab-df-convert {\n",
              "      background-color: #E8F0FE;\n",
              "      border: none;\n",
              "      border-radius: 50%;\n",
              "      cursor: pointer;\n",
              "      display: none;\n",
              "      fill: #1967D2;\n",
              "      height: 32px;\n",
              "      padding: 0 0 0 0;\n",
              "      width: 32px;\n",
              "    }\n",
              "\n",
              "    .colab-df-convert:hover {\n",
              "      background-color: #E2EBFA;\n",
              "      box-shadow: 0px 1px 2px rgba(60, 64, 67, 0.3), 0px 1px 3px 1px rgba(60, 64, 67, 0.15);\n",
              "      fill: #174EA6;\n",
              "    }\n",
              "\n",
              "    [theme=dark] .colab-df-convert {\n",
              "      background-color: #3B4455;\n",
              "      fill: #D2E3FC;\n",
              "    }\n",
              "\n",
              "    [theme=dark] .colab-df-convert:hover {\n",
              "      background-color: #434B5C;\n",
              "      box-shadow: 0px 1px 3px 1px rgba(0, 0, 0, 0.15);\n",
              "      filter: drop-shadow(0px 1px 2px rgba(0, 0, 0, 0.3));\n",
              "      fill: #FFFFFF;\n",
              "    }\n",
              "  </style>\n",
              "\n",
              "      <script>\n",
              "        const buttonEl =\n",
              "          document.querySelector('#df-157d12e9-f2f0-4bd3-9dc6-8f6292c274e3 button.colab-df-convert');\n",
              "        buttonEl.style.display =\n",
              "          google.colab.kernel.accessAllowed ? 'block' : 'none';\n",
              "\n",
              "        async function convertToInteractive(key) {\n",
              "          const element = document.querySelector('#df-157d12e9-f2f0-4bd3-9dc6-8f6292c274e3');\n",
              "          const dataTable =\n",
              "            await google.colab.kernel.invokeFunction('convertToInteractive',\n",
              "                                                     [key], {});\n",
              "          if (!dataTable) return;\n",
              "\n",
              "          const docLinkHtml = 'Like what you see? Visit the ' +\n",
              "            '<a target=\"_blank\" href=https://colab.research.google.com/notebooks/data_table.ipynb>data table notebook</a>'\n",
              "            + ' to learn more about interactive tables.';\n",
              "          element.innerHTML = '';\n",
              "          dataTable['output_type'] = 'display_data';\n",
              "          await google.colab.output.renderOutput(dataTable, element);\n",
              "          const docLink = document.createElement('div');\n",
              "          docLink.innerHTML = docLinkHtml;\n",
              "          element.appendChild(docLink);\n",
              "        }\n",
              "      </script>\n",
              "    </div>\n",
              "  </div>\n",
              "  "
            ]
          },
          "metadata": {},
          "execution_count": 332
        }
      ],
      "source": [
        "df_in_202211.loc[(df_in_202211[df_in_202211['18시-19시']==df_in_202211['18시-19시'].max()].index.values), ['지하철역', '18시-19시']]"
      ]
    },
    {
      "cell_type": "markdown",
      "id": "7b107934",
      "metadata": {
        "id": "7b107934"
      },
      "source": [
        "* 퇴근시간에 가장 많은 사람이 하차하는 역은 어디일까?(19시-20시)"
      ]
    },
    {
      "cell_type": "code",
      "execution_count": 333,
      "id": "1644853c",
      "metadata": {
        "scrolled": true,
        "id": "1644853c",
        "outputId": "a232c634-3e85-4488-f3ac-fc7649482108",
        "colab": {
          "base_uri": "https://localhost:8080/",
          "height": 81
        }
      },
      "outputs": [
        {
          "output_type": "execute_result",
          "data": {
            "text/plain": [
              "   지하철역  19시-20시\n",
              "37   신림   212563"
            ],
            "text/html": [
              "\n",
              "  <div id=\"df-bbe8aaaf-d416-4717-88a7-e785c55585d9\">\n",
              "    <div class=\"colab-df-container\">\n",
              "      <div>\n",
              "<style scoped>\n",
              "    .dataframe tbody tr th:only-of-type {\n",
              "        vertical-align: middle;\n",
              "    }\n",
              "\n",
              "    .dataframe tbody tr th {\n",
              "        vertical-align: top;\n",
              "    }\n",
              "\n",
              "    .dataframe thead th {\n",
              "        text-align: right;\n",
              "    }\n",
              "</style>\n",
              "<table border=\"1\" class=\"dataframe\">\n",
              "  <thead>\n",
              "    <tr style=\"text-align: right;\">\n",
              "      <th></th>\n",
              "      <th>지하철역</th>\n",
              "      <th>19시-20시</th>\n",
              "    </tr>\n",
              "  </thead>\n",
              "  <tbody>\n",
              "    <tr>\n",
              "      <th>37</th>\n",
              "      <td>신림</td>\n",
              "      <td>212563</td>\n",
              "    </tr>\n",
              "  </tbody>\n",
              "</table>\n",
              "</div>\n",
              "      <button class=\"colab-df-convert\" onclick=\"convertToInteractive('df-bbe8aaaf-d416-4717-88a7-e785c55585d9')\"\n",
              "              title=\"Convert this dataframe to an interactive table.\"\n",
              "              style=\"display:none;\">\n",
              "        \n",
              "  <svg xmlns=\"http://www.w3.org/2000/svg\" height=\"24px\"viewBox=\"0 0 24 24\"\n",
              "       width=\"24px\">\n",
              "    <path d=\"M0 0h24v24H0V0z\" fill=\"none\"/>\n",
              "    <path d=\"M18.56 5.44l.94 2.06.94-2.06 2.06-.94-2.06-.94-.94-2.06-.94 2.06-2.06.94zm-11 1L8.5 8.5l.94-2.06 2.06-.94-2.06-.94L8.5 2.5l-.94 2.06-2.06.94zm10 10l.94 2.06.94-2.06 2.06-.94-2.06-.94-.94-2.06-.94 2.06-2.06.94z\"/><path d=\"M17.41 7.96l-1.37-1.37c-.4-.4-.92-.59-1.43-.59-.52 0-1.04.2-1.43.59L10.3 9.45l-7.72 7.72c-.78.78-.78 2.05 0 2.83L4 21.41c.39.39.9.59 1.41.59.51 0 1.02-.2 1.41-.59l7.78-7.78 2.81-2.81c.8-.78.8-2.07 0-2.86zM5.41 20L4 18.59l7.72-7.72 1.47 1.35L5.41 20z\"/>\n",
              "  </svg>\n",
              "      </button>\n",
              "      \n",
              "  <style>\n",
              "    .colab-df-container {\n",
              "      display:flex;\n",
              "      flex-wrap:wrap;\n",
              "      gap: 12px;\n",
              "    }\n",
              "\n",
              "    .colab-df-convert {\n",
              "      background-color: #E8F0FE;\n",
              "      border: none;\n",
              "      border-radius: 50%;\n",
              "      cursor: pointer;\n",
              "      display: none;\n",
              "      fill: #1967D2;\n",
              "      height: 32px;\n",
              "      padding: 0 0 0 0;\n",
              "      width: 32px;\n",
              "    }\n",
              "\n",
              "    .colab-df-convert:hover {\n",
              "      background-color: #E2EBFA;\n",
              "      box-shadow: 0px 1px 2px rgba(60, 64, 67, 0.3), 0px 1px 3px 1px rgba(60, 64, 67, 0.15);\n",
              "      fill: #174EA6;\n",
              "    }\n",
              "\n",
              "    [theme=dark] .colab-df-convert {\n",
              "      background-color: #3B4455;\n",
              "      fill: #D2E3FC;\n",
              "    }\n",
              "\n",
              "    [theme=dark] .colab-df-convert:hover {\n",
              "      background-color: #434B5C;\n",
              "      box-shadow: 0px 1px 3px 1px rgba(0, 0, 0, 0.15);\n",
              "      filter: drop-shadow(0px 1px 2px rgba(0, 0, 0, 0.3));\n",
              "      fill: #FFFFFF;\n",
              "    }\n",
              "  </style>\n",
              "\n",
              "      <script>\n",
              "        const buttonEl =\n",
              "          document.querySelector('#df-bbe8aaaf-d416-4717-88a7-e785c55585d9 button.colab-df-convert');\n",
              "        buttonEl.style.display =\n",
              "          google.colab.kernel.accessAllowed ? 'block' : 'none';\n",
              "\n",
              "        async function convertToInteractive(key) {\n",
              "          const element = document.querySelector('#df-bbe8aaaf-d416-4717-88a7-e785c55585d9');\n",
              "          const dataTable =\n",
              "            await google.colab.kernel.invokeFunction('convertToInteractive',\n",
              "                                                     [key], {});\n",
              "          if (!dataTable) return;\n",
              "\n",
              "          const docLinkHtml = 'Like what you see? Visit the ' +\n",
              "            '<a target=\"_blank\" href=https://colab.research.google.com/notebooks/data_table.ipynb>data table notebook</a>'\n",
              "            + ' to learn more about interactive tables.';\n",
              "          element.innerHTML = '';\n",
              "          dataTable['output_type'] = 'display_data';\n",
              "          await google.colab.output.renderOutput(dataTable, element);\n",
              "          const docLink = document.createElement('div');\n",
              "          docLink.innerHTML = docLinkHtml;\n",
              "          element.appendChild(docLink);\n",
              "        }\n",
              "      </script>\n",
              "    </div>\n",
              "  </div>\n",
              "  "
            ]
          },
          "metadata": {},
          "execution_count": 333
        }
      ],
      "source": [
        "df_out_202211.loc[(df_out_202211[df_out_202211['19시-20시']==df_out_202211['19시-20시'].max()].index.values),['지하철역', '19시-20시']]"
      ]
    },
    {
      "cell_type": "markdown",
      "metadata": {
        "id": "48mfORgqsYSQ"
      },
      "source": [
        "\n",
        "# 지정역의 최근 시간대별 승하차정보 분석"
      ],
      "id": "48mfORgqsYSQ"
    },
    {
      "cell_type": "markdown",
      "metadata": {
        "id": "lGX6Ib8qsYSR"
      },
      "source": [
        "## 지정역의 최근 승차정보 분석"
      ],
      "id": "lGX6Ib8qsYSR"
    },
    {
      "cell_type": "code",
      "execution_count": 356,
      "metadata": {
        "scrolled": false,
        "colab": {
          "base_uri": "https://localhost:8080/"
        },
        "id": "gNOW1kH2sYSS",
        "outputId": "2244f752-e78c-4e3d-da92-1c3c6ed5a5fc"
      },
      "outputs": [
        {
          "name": "stdout",
          "output_type": "stream",
          "text": [
            "승차 데이터를 불러오고 싶은 역의 호선을 입력하세요 : 4호선\n",
            "승차 데이터를 불러오고 싶은 역을 입력하세요 : 창동\n"
          ]
        }
      ],
      "source": [
        "# 지정역의 최근 승차 데이터 불러오기 \n",
        "hs_on = input('승차 데이터를 불러오고 싶은 역의 호선을 입력하세요 : ')\n",
        "station_on = input('승차 데이터를 불러오고 싶은 역을 입력하세요 : ')\n",
        "df_st_on = df_in_202211[(df_in_202211['호선명']==hs_on)&(df_in_202211['지하철역']==station_on)]"
      ],
      "id": "gNOW1kH2sYSS"
    },
    {
      "cell_type": "code",
      "execution_count": 358,
      "metadata": {
        "id": "osSe3G3IsYSS"
      },
      "outputs": [],
      "source": [
        "# melt\n",
        "df_st_on = df_st_on.melt()[3:]"
      ],
      "id": "osSe3G3IsYSS"
    },
    {
      "cell_type": "code",
      "execution_count": 359,
      "metadata": {
        "id": "tFbmRTE9sYST"
      },
      "outputs": [],
      "source": [
        "# 컬럼명 변경\n",
        "df_st_on.columns =  ['시간대', '승차인원수']"
      ],
      "id": "tFbmRTE9sYST"
    },
    {
      "cell_type": "code",
      "source": [
        "df_st_on.head()"
      ],
      "metadata": {
        "outputId": "001d9760-ccb8-411b-b560-70d52d55f21e",
        "colab": {
          "base_uri": "https://localhost:8080/",
          "height": 206
        },
        "id": "l0Za8NRYsYST"
      },
      "execution_count": 360,
      "outputs": [
        {
          "output_type": "execute_result",
          "data": {
            "text/plain": [
              "       시간대  승차인원수\n",
              "3  04시-05시   2128\n",
              "4  05시-06시  16674\n",
              "5  06시-07시  40377\n",
              "6  07시-08시  89384\n",
              "7  08시-09시  84568"
            ],
            "text/html": [
              "\n",
              "  <div id=\"df-0481be15-3f67-45ae-86c7-35ce341447b9\">\n",
              "    <div class=\"colab-df-container\">\n",
              "      <div>\n",
              "<style scoped>\n",
              "    .dataframe tbody tr th:only-of-type {\n",
              "        vertical-align: middle;\n",
              "    }\n",
              "\n",
              "    .dataframe tbody tr th {\n",
              "        vertical-align: top;\n",
              "    }\n",
              "\n",
              "    .dataframe thead th {\n",
              "        text-align: right;\n",
              "    }\n",
              "</style>\n",
              "<table border=\"1\" class=\"dataframe\">\n",
              "  <thead>\n",
              "    <tr style=\"text-align: right;\">\n",
              "      <th></th>\n",
              "      <th>시간대</th>\n",
              "      <th>승차인원수</th>\n",
              "    </tr>\n",
              "  </thead>\n",
              "  <tbody>\n",
              "    <tr>\n",
              "      <th>3</th>\n",
              "      <td>04시-05시</td>\n",
              "      <td>2128</td>\n",
              "    </tr>\n",
              "    <tr>\n",
              "      <th>4</th>\n",
              "      <td>05시-06시</td>\n",
              "      <td>16674</td>\n",
              "    </tr>\n",
              "    <tr>\n",
              "      <th>5</th>\n",
              "      <td>06시-07시</td>\n",
              "      <td>40377</td>\n",
              "    </tr>\n",
              "    <tr>\n",
              "      <th>6</th>\n",
              "      <td>07시-08시</td>\n",
              "      <td>89384</td>\n",
              "    </tr>\n",
              "    <tr>\n",
              "      <th>7</th>\n",
              "      <td>08시-09시</td>\n",
              "      <td>84568</td>\n",
              "    </tr>\n",
              "  </tbody>\n",
              "</table>\n",
              "</div>\n",
              "      <button class=\"colab-df-convert\" onclick=\"convertToInteractive('df-0481be15-3f67-45ae-86c7-35ce341447b9')\"\n",
              "              title=\"Convert this dataframe to an interactive table.\"\n",
              "              style=\"display:none;\">\n",
              "        \n",
              "  <svg xmlns=\"http://www.w3.org/2000/svg\" height=\"24px\"viewBox=\"0 0 24 24\"\n",
              "       width=\"24px\">\n",
              "    <path d=\"M0 0h24v24H0V0z\" fill=\"none\"/>\n",
              "    <path d=\"M18.56 5.44l.94 2.06.94-2.06 2.06-.94-2.06-.94-.94-2.06-.94 2.06-2.06.94zm-11 1L8.5 8.5l.94-2.06 2.06-.94-2.06-.94L8.5 2.5l-.94 2.06-2.06.94zm10 10l.94 2.06.94-2.06 2.06-.94-2.06-.94-.94-2.06-.94 2.06-2.06.94z\"/><path d=\"M17.41 7.96l-1.37-1.37c-.4-.4-.92-.59-1.43-.59-.52 0-1.04.2-1.43.59L10.3 9.45l-7.72 7.72c-.78.78-.78 2.05 0 2.83L4 21.41c.39.39.9.59 1.41.59.51 0 1.02-.2 1.41-.59l7.78-7.78 2.81-2.81c.8-.78.8-2.07 0-2.86zM5.41 20L4 18.59l7.72-7.72 1.47 1.35L5.41 20z\"/>\n",
              "  </svg>\n",
              "      </button>\n",
              "      \n",
              "  <style>\n",
              "    .colab-df-container {\n",
              "      display:flex;\n",
              "      flex-wrap:wrap;\n",
              "      gap: 12px;\n",
              "    }\n",
              "\n",
              "    .colab-df-convert {\n",
              "      background-color: #E8F0FE;\n",
              "      border: none;\n",
              "      border-radius: 50%;\n",
              "      cursor: pointer;\n",
              "      display: none;\n",
              "      fill: #1967D2;\n",
              "      height: 32px;\n",
              "      padding: 0 0 0 0;\n",
              "      width: 32px;\n",
              "    }\n",
              "\n",
              "    .colab-df-convert:hover {\n",
              "      background-color: #E2EBFA;\n",
              "      box-shadow: 0px 1px 2px rgba(60, 64, 67, 0.3), 0px 1px 3px 1px rgba(60, 64, 67, 0.15);\n",
              "      fill: #174EA6;\n",
              "    }\n",
              "\n",
              "    [theme=dark] .colab-df-convert {\n",
              "      background-color: #3B4455;\n",
              "      fill: #D2E3FC;\n",
              "    }\n",
              "\n",
              "    [theme=dark] .colab-df-convert:hover {\n",
              "      background-color: #434B5C;\n",
              "      box-shadow: 0px 1px 3px 1px rgba(0, 0, 0, 0.15);\n",
              "      filter: drop-shadow(0px 1px 2px rgba(0, 0, 0, 0.3));\n",
              "      fill: #FFFFFF;\n",
              "    }\n",
              "  </style>\n",
              "\n",
              "      <script>\n",
              "        const buttonEl =\n",
              "          document.querySelector('#df-0481be15-3f67-45ae-86c7-35ce341447b9 button.colab-df-convert');\n",
              "        buttonEl.style.display =\n",
              "          google.colab.kernel.accessAllowed ? 'block' : 'none';\n",
              "\n",
              "        async function convertToInteractive(key) {\n",
              "          const element = document.querySelector('#df-0481be15-3f67-45ae-86c7-35ce341447b9');\n",
              "          const dataTable =\n",
              "            await google.colab.kernel.invokeFunction('convertToInteractive',\n",
              "                                                     [key], {});\n",
              "          if (!dataTable) return;\n",
              "\n",
              "          const docLinkHtml = 'Like what you see? Visit the ' +\n",
              "            '<a target=\"_blank\" href=https://colab.research.google.com/notebooks/data_table.ipynb>data table notebook</a>'\n",
              "            + ' to learn more about interactive tables.';\n",
              "          element.innerHTML = '';\n",
              "          dataTable['output_type'] = 'display_data';\n",
              "          await google.colab.output.renderOutput(dataTable, element);\n",
              "          const docLink = document.createElement('div');\n",
              "          docLink.innerHTML = docLinkHtml;\n",
              "          element.appendChild(docLink);\n",
              "        }\n",
              "      </script>\n",
              "    </div>\n",
              "  </div>\n",
              "  "
            ]
          },
          "metadata": {},
          "execution_count": 360
        }
      ],
      "id": "l0Za8NRYsYST"
    },
    {
      "cell_type": "code",
      "execution_count": 361,
      "metadata": {
        "outputId": "8a0deed7-2a95-4ac1-9d38-a9faf41504ba",
        "colab": {
          "base_uri": "https://localhost:8080/",
          "height": 491
        },
        "id": "rvZ6wct5sYSU"
      },
      "outputs": [
        {
          "output_type": "display_data",
          "data": {
            "text/plain": [
              "<Figure size 1080x504 with 1 Axes>"
            ],
            "image/png": "[encoded data removed]"
          },
          "metadata": {
            "needs_background": "light"
          }
        }
      ],
      "source": [
        "# 시간대별 승차인원 시각화하기\n",
        "df_st_on.plot(kind='bar', x='시간대', y='승차인원수', figsize=(15,7))\n",
        "plt.title(station_on + '역 시간대별 승차인원 시각화', size=15)\n",
        "plt.xticks(rotation=45)\n",
        "plt.show()"
      ],
      "id": "rvZ6wct5sYSU"
    },
    {
      "cell_type": "markdown",
      "metadata": {
        "id": "pjKTrOXosYSU"
      },
      "source": [
        "## 지정역의 최근 하차 정보 분석"
      ],
      "id": "pjKTrOXosYSU"
    },
    {
      "cell_type": "code",
      "execution_count": 362,
      "metadata": {
        "scrolled": true,
        "colab": {
          "base_uri": "https://localhost:8080/"
        },
        "id": "h3y1_DaKsYSV",
        "outputId": "c5fc9043-d95c-4e61-8453-e8692a2e63ef"
      },
      "outputs": [
        {
          "name": "stdout",
          "output_type": "stream",
          "text": [
            "하차 데이터를 불러오고 싶은 역의 호선을 입력하세요 : 4호선\n",
            "하차 데이터를 불러오고 싶은 역을 입력하세요 : 창동\n"
          ]
        }
      ],
      "source": [
        "# 지정역의 최근 하차 데이터 불러오기 \n",
        "hs_off = input('하차 데이터를 불러오고 싶은 역의 호선을 입력하세요 : ')\n",
        "station_off = input('하차 데이터를 불러오고 싶은 역을 입력하세요 : ')\n",
        "df_st_off = df_out_202211[(df_out_202211['호선명']==hs_off)&(df_out_202211['지하철역']==station_off)]"
      ],
      "id": "h3y1_DaKsYSV"
    },
    {
      "cell_type": "code",
      "execution_count": 363,
      "metadata": {
        "scrolled": false,
        "id": "NecAqf6XsYSV"
      },
      "outputs": [],
      "source": [
        "# melt\n",
        "df_st_off = df_st_off.melt()[3:]"
      ],
      "id": "NecAqf6XsYSV"
    },
    {
      "cell_type": "code",
      "execution_count": 364,
      "metadata": {
        "scrolled": false,
        "id": "zX3cXiInsYSW"
      },
      "outputs": [],
      "source": [
        "# 컬럼명 변경\n",
        "df_st_off.columns =  ['시간대', '하차인원수']"
      ],
      "id": "zX3cXiInsYSW"
    },
    {
      "cell_type": "code",
      "execution_count": 365,
      "metadata": {
        "scrolled": false,
        "outputId": "b566992d-11b3-49a5-b282-5904423a4bf6",
        "colab": {
          "base_uri": "https://localhost:8080/",
          "height": 491
        },
        "id": "UQCulvLdsYSW"
      },
      "outputs": [
        {
          "output_type": "display_data",
          "data": {
            "text/plain": [
              "<Figure size 1080x504 with 1 Axes>"
            ],
            "image/png": "[encoded data removed]"
          },
          "metadata": {
            "needs_background": "light"
          }
        }
      ],
      "source": [
        "# 시간대별 하차인원 시각화하기\n",
        "df_st_off.plot(kind='bar', x='시간대', y='하차인원수', figsize=(15,7))\n",
        "plt.title(station_off + '역 시간대별 하차인원 시각화', size=15)\n",
        "plt.xticks(rotation=45)\n",
        "plt.show()"
      ],
      "id": "UQCulvLdsYSW"
    },
    {
      "cell_type": "markdown",
      "id": "834db46d",
      "metadata": {
        "id": "834db46d"
      },
      "source": [
        "\n",
        "# 강남역의 최근 시간대별 승하차정보 분석"
      ]
    },
    {
      "cell_type": "markdown",
      "id": "fc8ba1a1",
      "metadata": {
        "id": "fc8ba1a1"
      },
      "source": [
        "## 강남역의 최근 승차정보 분석"
      ]
    },
    {
      "cell_type": "code",
      "execution_count": 344,
      "id": "4f0e1d1c",
      "metadata": {
        "scrolled": false,
        "id": "4f0e1d1c"
      },
      "outputs": [],
      "source": [
        "# 강남역의 최근 승차 데이터 불러오기 \n",
        "df_gn_on = df_in_202211[(df_in_202211['지하철역']=='강남')]"
      ]
    },
    {
      "cell_type": "code",
      "execution_count": 345,
      "id": "0e6e110a",
      "metadata": {
        "id": "0e6e110a"
      },
      "outputs": [],
      "source": [
        "# melt\n",
        "df_gn_on = df_gn_on.melt()[3:]"
      ]
    },
    {
      "cell_type": "code",
      "execution_count": 346,
      "id": "2c244671",
      "metadata": {
        "id": "2c244671"
      },
      "outputs": [],
      "source": [
        "# 컬럼명 변경\n",
        "df_gn_on.columns =  ['시간대', '승차인원수']"
      ]
    },
    {
      "cell_type": "code",
      "source": [
        "df_gn_on.head()"
      ],
      "metadata": {
        "id": "QVoUVMKv87su",
        "outputId": "ef3e829f-506b-46ab-d4b6-ccc9405add31",
        "colab": {
          "base_uri": "https://localhost:8080/",
          "height": 206
        }
      },
      "id": "QVoUVMKv87su",
      "execution_count": 347,
      "outputs": [
        {
          "output_type": "execute_result",
          "data": {
            "text/plain": [
              "       시간대  승차인원수\n",
              "3  04시-05시    151\n",
              "4  05시-06시   8810\n",
              "5  06시-07시  17736\n",
              "6  07시-08시  38918\n",
              "7  08시-09시  66156"
            ],
            "text/html": [
              "\n",
              "  <div id=\"df-9ac87063-6c32-430f-a925-9c5dc91d2801\">\n",
              "    <div class=\"colab-df-container\">\n",
              "      <div>\n",
              "<style scoped>\n",
              "    .dataframe tbody tr th:only-of-type {\n",
              "        vertical-align: middle;\n",
              "    }\n",
              "\n",
              "    .dataframe tbody tr th {\n",
              "        vertical-align: top;\n",
              "    }\n",
              "\n",
              "    .dataframe thead th {\n",
              "        text-align: right;\n",
              "    }\n",
              "</style>\n",
              "<table border=\"1\" class=\"dataframe\">\n",
              "  <thead>\n",
              "    <tr style=\"text-align: right;\">\n",
              "      <th></th>\n",
              "      <th>시간대</th>\n",
              "      <th>승차인원수</th>\n",
              "    </tr>\n",
              "  </thead>\n",
              "  <tbody>\n",
              "    <tr>\n",
              "      <th>3</th>\n",
              "      <td>04시-05시</td>\n",
              "      <td>151</td>\n",
              "    </tr>\n",
              "    <tr>\n",
              "      <th>4</th>\n",
              "      <td>05시-06시</td>\n",
              "      <td>8810</td>\n",
              "    </tr>\n",
              "    <tr>\n",
              "      <th>5</th>\n",
              "      <td>06시-07시</td>\n",
              "      <td>17736</td>\n",
              "    </tr>\n",
              "    <tr>\n",
              "      <th>6</th>\n",
              "      <td>07시-08시</td>\n",
              "      <td>38918</td>\n",
              "    </tr>\n",
              "    <tr>\n",
              "      <th>7</th>\n",
              "      <td>08시-09시</td>\n",
              "      <td>66156</td>\n",
              "    </tr>\n",
              "  </tbody>\n",
              "</table>\n",
              "</div>\n",
              "      <button class=\"colab-df-convert\" onclick=\"convertToInteractive('df-9ac87063-6c32-430f-a925-9c5dc91d2801')\"\n",
              "              title=\"Convert this dataframe to an interactive table.\"\n",
              "              style=\"display:none;\">\n",
              "        \n",
              "  <svg xmlns=\"http://www.w3.org/2000/svg\" height=\"24px\"viewBox=\"0 0 24 24\"\n",
              "       width=\"24px\">\n",
              "    <path d=\"M0 0h24v24H0V0z\" fill=\"none\"/>\n",
              "    <path d=\"M18.56 5.44l.94 2.06.94-2.06 2.06-.94-2.06-.94-.94-2.06-.94 2.06-2.06.94zm-11 1L8.5 8.5l.94-2.06 2.06-.94-2.06-.94L8.5 2.5l-.94 2.06-2.06.94zm10 10l.94 2.06.94-2.06 2.06-.94-2.06-.94-.94-2.06-.94 2.06-2.06.94z\"/><path d=\"M17.41 7.96l-1.37-1.37c-.4-.4-.92-.59-1.43-.59-.52 0-1.04.2-1.43.59L10.3 9.45l-7.72 7.72c-.78.78-.78 2.05 0 2.83L4 21.41c.39.39.9.59 1.41.59.51 0 1.02-.2 1.41-.59l7.78-7.78 2.81-2.81c.8-.78.8-2.07 0-2.86zM5.41 20L4 18.59l7.72-7.72 1.47 1.35L5.41 20z\"/>\n",
              "  </svg>\n",
              "      </button>\n",
              "      \n",
              "  <style>\n",
              "    .colab-df-container {\n",
              "      display:flex;\n",
              "      flex-wrap:wrap;\n",
              "      gap: 12px;\n",
              "    }\n",
              "\n",
              "    .colab-df-convert {\n",
              "      background-color: #E8F0FE;\n",
              "      border: none;\n",
              "      border-radius: 50%;\n",
              "      cursor: pointer;\n",
              "      display: none;\n",
              "      fill: #1967D2;\n",
              "      height: 32px;\n",
              "      padding: 0 0 0 0;\n",
              "      width: 32px;\n",
              "    }\n",
              "\n",
              "    .colab-df-convert:hover {\n",
              "      background-color: #E2EBFA;\n",
              "      box-shadow: 0px 1px 2px rgba(60, 64, 67, 0.3), 0px 1px 3px 1px rgba(60, 64, 67, 0.15);\n",
              "      fill: #174EA6;\n",
              "    }\n",
              "\n",
              "    [theme=dark] .colab-df-convert {\n",
              "      background-color: #3B4455;\n",
              "      fill: #D2E3FC;\n",
              "    }\n",
              "\n",
              "    [theme=dark] .colab-df-convert:hover {\n",
              "      background-color: #434B5C;\n",
              "      box-shadow: 0px 1px 3px 1px rgba(0, 0, 0, 0.15);\n",
              "      filter: drop-shadow(0px 1px 2px rgba(0, 0, 0, 0.3));\n",
              "      fill: #FFFFFF;\n",
              "    }\n",
              "  </style>\n",
              "\n",
              "      <script>\n",
              "        const buttonEl =\n",
              "          document.querySelector('#df-9ac87063-6c32-430f-a925-9c5dc91d2801 button.colab-df-convert');\n",
              "        buttonEl.style.display =\n",
              "          google.colab.kernel.accessAllowed ? 'block' : 'none';\n",
              "\n",
              "        async function convertToInteractive(key) {\n",
              "          const element = document.querySelector('#df-9ac87063-6c32-430f-a925-9c5dc91d2801');\n",
              "          const dataTable =\n",
              "            await google.colab.kernel.invokeFunction('convertToInteractive',\n",
              "                                                     [key], {});\n",
              "          if (!dataTable) return;\n",
              "\n",
              "          const docLinkHtml = 'Like what you see? Visit the ' +\n",
              "            '<a target=\"_blank\" href=https://colab.research.google.com/notebooks/data_table.ipynb>data table notebook</a>'\n",
              "            + ' to learn more about interactive tables.';\n",
              "          element.innerHTML = '';\n",
              "          dataTable['output_type'] = 'display_data';\n",
              "          await google.colab.output.renderOutput(dataTable, element);\n",
              "          const docLink = document.createElement('div');\n",
              "          docLink.innerHTML = docLinkHtml;\n",
              "          element.appendChild(docLink);\n",
              "        }\n",
              "      </script>\n",
              "    </div>\n",
              "  </div>\n",
              "  "
            ]
          },
          "metadata": {},
          "execution_count": 347
        }
      ]
    },
    {
      "cell_type": "code",
      "execution_count": 348,
      "id": "d99c58c2",
      "metadata": {
        "id": "d99c58c2",
        "outputId": "3c719e74-1418-44b8-e8c6-496342dc08ac",
        "colab": {
          "base_uri": "https://localhost:8080/",
          "height": 491
        }
      },
      "outputs": [
        {
          "output_type": "display_data",
          "data": {
            "text/plain": [
              "<Figure size 1080x504 with 1 Axes>"
            ],
            "image/png": "[encoded data removed]"
          },
          "metadata": {
            "needs_background": "light"
          }
        }
      ],
      "source": [
        "# 시간대별 승차인원 시각화하기\n",
        "df_gn_on.plot(kind='bar', x='시간대', y='승차인원수', figsize=(15,7))\n",
        "plt.title('강남역 시간대별 승차인원 시각화', size=15)\n",
        "plt.xticks(rotation=45)\n",
        "plt.show()"
      ]
    },
    {
      "cell_type": "markdown",
      "id": "91a87020",
      "metadata": {
        "id": "91a87020"
      },
      "source": [
        "## 강남역의 최근 하차 정보 분석"
      ]
    },
    {
      "cell_type": "code",
      "execution_count": 248,
      "id": "155d7145",
      "metadata": {
        "scrolled": true,
        "id": "155d7145"
      },
      "outputs": [],
      "source": [
        "# 강남역의 최근 하차 데이터 불러오기 \n",
        "df_gn_off = df_out_202211[(df_out_202211['지하철역']=='강남')]"
      ]
    },
    {
      "cell_type": "code",
      "execution_count": 249,
      "id": "208665f6",
      "metadata": {
        "scrolled": false,
        "id": "208665f6"
      },
      "outputs": [],
      "source": [
        "# melt\n",
        "df_gn_off = df_gn_off.melt()[3:]"
      ]
    },
    {
      "cell_type": "code",
      "execution_count": 250,
      "id": "c69f3797",
      "metadata": {
        "scrolled": false,
        "id": "c69f3797"
      },
      "outputs": [],
      "source": [
        "# 컬럼명 변경\n",
        "df_gn_off.columns =  ['시간대', '하차인원수']"
      ]
    },
    {
      "cell_type": "code",
      "execution_count": 251,
      "id": "2d11460d",
      "metadata": {
        "scrolled": false,
        "id": "2d11460d",
        "outputId": "7f34cf23-6f0b-425a-be3d-ea56294fe2e6",
        "colab": {
          "base_uri": "https://localhost:8080/",
          "height": 491
        }
      },
      "outputs": [
        {
          "output_type": "display_data",
          "data": {
            "text/plain": [
              "<Figure size 1080x504 with 1 Axes>"
            ],
            "image/png": "[encoded data removed]"
          },
          "metadata": {
            "needs_background": "light"
          }
        }
      ],
      "source": [
        "# 시간대별 하차인원 시각화하기\n",
        "df_gn_off.plot(kind='bar', x='시간대', y='하차인원수', figsize=(15,7))\n",
        "plt.title('강남역 시간대별 하차인원 시각화', size=15)\n",
        "plt.xticks(rotation=45)\n",
        "plt.show()"
      ]
    },
    {
      "cell_type": "markdown",
      "id": "fa07625a",
      "metadata": {
        "id": "fa07625a"
      },
      "source": [
        "# 지하철 시간대별, 역별 이용현황 분석"
      ]
    },
    {
      "cell_type": "markdown",
      "id": "9be619fe",
      "metadata": {
        "id": "9be619fe"
      },
      "source": [
        "## 시간대별 승차 현황"
      ]
    },
    {
      "cell_type": "markdown",
      "id": "0a582c52",
      "metadata": {
        "id": "0a582c52"
      },
      "source": [
        "### 승차정보 집계 데이터 만들기"
      ]
    },
    {
      "cell_type": "code",
      "execution_count": null,
      "id": "cf0fac29",
      "metadata": {
        "scrolled": false,
        "id": "cf0fac29"
      },
      "outputs": [],
      "source": [
        "# df_in_202211 카피하여 사용하기"
      ]
    },
    {
      "cell_type": "code",
      "source": [
        "df_in_202211_agg = df_in_202211.copy()"
      ],
      "metadata": {
        "id": "YKi41FV2A0wF"
      },
      "id": "YKi41FV2A0wF",
      "execution_count": 318,
      "outputs": []
    },
    {
      "cell_type": "code",
      "execution_count": 319,
      "id": "1d94b55b",
      "metadata": {
        "scrolled": false,
        "id": "1d94b55b"
      },
      "outputs": [],
      "source": [
        "# 인덱스 변경('지하철역')\n",
        "df_in_202211_agg.index = df_in_202211_agg['지하철역']"
      ]
    },
    {
      "cell_type": "code",
      "execution_count": 320,
      "id": "f1ed6098",
      "metadata": {
        "scrolled": false,
        "id": "f1ed6098"
      },
      "outputs": [],
      "source": [
        "# 컬럼 삭제('사용월','호선명','지하철역')\n",
        "df_in_202211_agg.drop(columns=['사용월','호선명', '지하철역'], inplace=True)"
      ]
    },
    {
      "cell_type": "code",
      "execution_count": 321,
      "id": "8765ffcb",
      "metadata": {
        "scrolled": false,
        "id": "8765ffcb"
      },
      "outputs": [],
      "source": [
        "# 행,열 합계\n",
        "df_in_202211_agg.loc['합계'] = df_in_202211.apply('sum', axis=0)"
      ]
    },
    {
      "cell_type": "code",
      "source": [
        "df_in_202211_agg['합계'] = df_in_202211_agg.apply('sum', axis=1)"
      ],
      "metadata": {
        "id": "TDYPJh69h2ai"
      },
      "id": "TDYPJh69h2ai",
      "execution_count": 323,
      "outputs": []
    },
    {
      "cell_type": "code",
      "source": [
        "df_in_202211_agg"
      ],
      "metadata": {
        "colab": {
          "base_uri": "https://localhost:8080/",
          "height": 499
        },
        "id": "DJK6QDfaoYmR",
        "outputId": "d0a793f5-fb19-4c0a-85bf-56c794a51e9b"
      },
      "id": "DJK6QDfaoYmR",
      "execution_count": 324,
      "outputs": [
        {
          "output_type": "execute_result",
          "data": {
            "text/plain": [
              "      04시-05시  05시-06시  06시-07시   07시-08시   08시-09시   09시-10시  10시-11시  \\\n",
              "지하철역                                                                     \n",
              "동대문       728    10942     8782     14368     20005     18561    16489   \n",
              "동묘앞       205     3082     3731      6555     11419      9128     9552   \n",
              "서울역       698     8634    13165     42055     71945     60879    60399   \n",
              "시청        121     2050     3391      7286      9263     11983    13690   \n",
              "신설동       372     9256     9260     20784     31812     20507    17713   \n",
              "...       ...      ...      ...       ...       ...       ...      ...   \n",
              "중랑        122     6419     9888     24108     23336     16121     9433   \n",
              "지평          0        0        0       295       234         3      383   \n",
              "팔당          1      257      658      1604      1504      1379     1198   \n",
              "회기        999    12774    21333     58961     79615     51749    39787   \n",
              "합계     141289  3136882  6507355  16589946  19138774  11913201  8752328   \n",
              "\n",
              "      11시-12시  12시-13시  13시-14시  ...   19시-20시  20시-21시  21시-22시  22시-23시  \\\n",
              "지하철역                             ...                                        \n",
              "동대문     17748    21937    23613  ...     16089    13946    12552     9395   \n",
              "동묘앞     14547    20939    28912  ...      8225     5269     4702     2974   \n",
              "서울역     74517    83151    81548  ...    115786    81732    80679    53607   \n",
              "시청      20915    22586    29024  ...     64005    54614    48886    30884   \n",
              "신설동     19169    20681    22633  ...     20193    14002    12248     8512   \n",
              "...       ...      ...      ...  ...       ...      ...      ...      ...   \n",
              "중랑       8659     8707     9021  ...      4801     3537     2787     2000   \n",
              "지평          4        4       60  ...       128        0       24        6   \n",
              "팔당       1141     1216     1334  ...      1856     1570     1203      761   \n",
              "회기      43759    47566    46408  ...     32954    29335    32350    26970   \n",
              "합계    8727191  9544410  9710642  ...  10866633  8674976  7964325  6035999   \n",
              "\n",
              "      23시-24시  00시-01시  01시-02시  02시-03시  03시-04시         합계  \n",
              "지하철역                                                          \n",
              "동대문      4294      518        5        0        0     337509  \n",
              "동묘앞      1230       89        2        0        0     286509  \n",
              "서울역     22735     2321        2        0        0    1519561  \n",
              "시청      10081      872        1        0        0     751250  \n",
              "신설동      3316      370        1        0        0     402085  \n",
              "...       ...      ...      ...      ...      ...        ...  \n",
              "중랑        898       32        0        0        0     167816  \n",
              "지평          0        0        0        0        0       1781  \n",
              "팔당        152        0        0        0        0      29013  \n",
              "회기      12430      637        0        0        0     847074  \n",
              "합계    2487912   392171      374       12        0  204392709  \n",
              "\n",
              "[614 rows x 25 columns]"
            ],
            "text/html": [
              "\n",
              "  <div id=\"df-df6481c7-54b6-4cc8-878e-aa618f593d8b\">\n",
              "    <div class=\"colab-df-container\">\n",
              "      <div>\n",
              "<style scoped>\n",
              "    .dataframe tbody tr th:only-of-type {\n",
              "        vertical-align: middle;\n",
              "    }\n",
              "\n",
              "    .dataframe tbody tr th {\n",
              "        vertical-align: top;\n",
              "    }\n",
              "\n",
              "    .dataframe thead th {\n",
              "        text-align: right;\n",
              "    }\n",
              "</style>\n",
              "<table border=\"1\" class=\"dataframe\">\n",
              "  <thead>\n",
              "    <tr style=\"text-align: right;\">\n",
              "      <th></th>\n",
              "      <th>04시-05시</th>\n",
              "      <th>05시-06시</th>\n",
              "      <th>06시-07시</th>\n",
              "      <th>07시-08시</th>\n",
              "      <th>08시-09시</th>\n",
              "      <th>09시-10시</th>\n",
              "      <th>10시-11시</th>\n",
              "      <th>11시-12시</th>\n",
              "      <th>12시-13시</th>\n",
              "      <th>13시-14시</th>\n",
              "      <th>...</th>\n",
              "      <th>19시-20시</th>\n",
              "      <th>20시-21시</th>\n",
              "      <th>21시-22시</th>\n",
              "      <th>22시-23시</th>\n",
              "      <th>23시-24시</th>\n",
              "      <th>00시-01시</th>\n",
              "      <th>01시-02시</th>\n",
              "      <th>02시-03시</th>\n",
              "      <th>03시-04시</th>\n",
              "      <th>합계</th>\n",
              "    </tr>\n",
              "    <tr>\n",
              "      <th>지하철역</th>\n",
              "      <th></th>\n",
              "      <th></th>\n",
              "      <th></th>\n",
              "      <th></th>\n",
              "      <th></th>\n",
              "      <th></th>\n",
              "      <th></th>\n",
              "      <th></th>\n",
              "      <th></th>\n",
              "      <th></th>\n",
              "      <th></th>\n",
              "      <th></th>\n",
              "      <th></th>\n",
              "      <th></th>\n",
              "      <th></th>\n",
              "      <th></th>\n",
              "      <th></th>\n",
              "      <th></th>\n",
              "      <th></th>\n",
              "      <th></th>\n",
              "      <th></th>\n",
              "    </tr>\n",
              "  </thead>\n",
              "  <tbody>\n",
              "    <tr>\n",
              "      <th>동대문</th>\n",
              "      <td>728</td>\n",
              "      <td>10942</td>\n",
              "      <td>8782</td>\n",
              "      <td>14368</td>\n",
              "      <td>20005</td>\n",
              "      <td>18561</td>\n",
              "      <td>16489</td>\n",
              "      <td>17748</td>\n",
              "      <td>21937</td>\n",
              "      <td>23613</td>\n",
              "      <td>...</td>\n",
              "      <td>16089</td>\n",
              "      <td>13946</td>\n",
              "      <td>12552</td>\n",
              "      <td>9395</td>\n",
              "      <td>4294</td>\n",
              "      <td>518</td>\n",
              "      <td>5</td>\n",
              "      <td>0</td>\n",
              "      <td>0</td>\n",
              "      <td>337509</td>\n",
              "    </tr>\n",
              "    <tr>\n",
              "      <th>동묘앞</th>\n",
              "      <td>205</td>\n",
              "      <td>3082</td>\n",
              "      <td>3731</td>\n",
              "      <td>6555</td>\n",
              "      <td>11419</td>\n",
              "      <td>9128</td>\n",
              "      <td>9552</td>\n",
              "      <td>14547</td>\n",
              "      <td>20939</td>\n",
              "      <td>28912</td>\n",
              "      <td>...</td>\n",
              "      <td>8225</td>\n",
              "      <td>5269</td>\n",
              "      <td>4702</td>\n",
              "      <td>2974</td>\n",
              "      <td>1230</td>\n",
              "      <td>89</td>\n",
              "      <td>2</td>\n",
              "      <td>0</td>\n",
              "      <td>0</td>\n",
              "      <td>286509</td>\n",
              "    </tr>\n",
              "    <tr>\n",
              "      <th>서울역</th>\n",
              "      <td>698</td>\n",
              "      <td>8634</td>\n",
              "      <td>13165</td>\n",
              "      <td>42055</td>\n",
              "      <td>71945</td>\n",
              "      <td>60879</td>\n",
              "      <td>60399</td>\n",
              "      <td>74517</td>\n",
              "      <td>83151</td>\n",
              "      <td>81548</td>\n",
              "      <td>...</td>\n",
              "      <td>115786</td>\n",
              "      <td>81732</td>\n",
              "      <td>80679</td>\n",
              "      <td>53607</td>\n",
              "      <td>22735</td>\n",
              "      <td>2321</td>\n",
              "      <td>2</td>\n",
              "      <td>0</td>\n",
              "      <td>0</td>\n",
              "      <td>1519561</td>\n",
              "    </tr>\n",
              "    <tr>\n",
              "      <th>시청</th>\n",
              "      <td>121</td>\n",
              "      <td>2050</td>\n",
              "      <td>3391</td>\n",
              "      <td>7286</td>\n",
              "      <td>9263</td>\n",
              "      <td>11983</td>\n",
              "      <td>13690</td>\n",
              "      <td>20915</td>\n",
              "      <td>22586</td>\n",
              "      <td>29024</td>\n",
              "      <td>...</td>\n",
              "      <td>64005</td>\n",
              "      <td>54614</td>\n",
              "      <td>48886</td>\n",
              "      <td>30884</td>\n",
              "      <td>10081</td>\n",
              "      <td>872</td>\n",
              "      <td>1</td>\n",
              "      <td>0</td>\n",
              "      <td>0</td>\n",
              "      <td>751250</td>\n",
              "    </tr>\n",
              "    <tr>\n",
              "      <th>신설동</th>\n",
              "      <td>372</td>\n",
              "      <td>9256</td>\n",
              "      <td>9260</td>\n",
              "      <td>20784</td>\n",
              "      <td>31812</td>\n",
              "      <td>20507</td>\n",
              "      <td>17713</td>\n",
              "      <td>19169</td>\n",
              "      <td>20681</td>\n",
              "      <td>22633</td>\n",
              "      <td>...</td>\n",
              "      <td>20193</td>\n",
              "      <td>14002</td>\n",
              "      <td>12248</td>\n",
              "      <td>8512</td>\n",
              "      <td>3316</td>\n",
              "      <td>370</td>\n",
              "      <td>1</td>\n",
              "      <td>0</td>\n",
              "      <td>0</td>\n",
              "      <td>402085</td>\n",
              "    </tr>\n",
              "    <tr>\n",
              "      <th>...</th>\n",
              "      <td>...</td>\n",
              "      <td>...</td>\n",
              "      <td>...</td>\n",
              "      <td>...</td>\n",
              "      <td>...</td>\n",
              "      <td>...</td>\n",
              "      <td>...</td>\n",
              "      <td>...</td>\n",
              "      <td>...</td>\n",
              "      <td>...</td>\n",
              "      <td>...</td>\n",
              "      <td>...</td>\n",
              "      <td>...</td>\n",
              "      <td>...</td>\n",
              "      <td>...</td>\n",
              "      <td>...</td>\n",
              "      <td>...</td>\n",
              "      <td>...</td>\n",
              "      <td>...</td>\n",
              "      <td>...</td>\n",
              "      <td>...</td>\n",
              "    </tr>\n",
              "    <tr>\n",
              "      <th>중랑</th>\n",
              "      <td>122</td>\n",
              "      <td>6419</td>\n",
              "      <td>9888</td>\n",
              "      <td>24108</td>\n",
              "      <td>23336</td>\n",
              "      <td>16121</td>\n",
              "      <td>9433</td>\n",
              "      <td>8659</td>\n",
              "      <td>8707</td>\n",
              "      <td>9021</td>\n",
              "      <td>...</td>\n",
              "      <td>4801</td>\n",
              "      <td>3537</td>\n",
              "      <td>2787</td>\n",
              "      <td>2000</td>\n",
              "      <td>898</td>\n",
              "      <td>32</td>\n",
              "      <td>0</td>\n",
              "      <td>0</td>\n",
              "      <td>0</td>\n",
              "      <td>167816</td>\n",
              "    </tr>\n",
              "    <tr>\n",
              "      <th>지평</th>\n",
              "      <td>0</td>\n",
              "      <td>0</td>\n",
              "      <td>0</td>\n",
              "      <td>295</td>\n",
              "      <td>234</td>\n",
              "      <td>3</td>\n",
              "      <td>383</td>\n",
              "      <td>4</td>\n",
              "      <td>4</td>\n",
              "      <td>60</td>\n",
              "      <td>...</td>\n",
              "      <td>128</td>\n",
              "      <td>0</td>\n",
              "      <td>24</td>\n",
              "      <td>6</td>\n",
              "      <td>0</td>\n",
              "      <td>0</td>\n",
              "      <td>0</td>\n",
              "      <td>0</td>\n",
              "      <td>0</td>\n",
              "      <td>1781</td>\n",
              "    </tr>\n",
              "    <tr>\n",
              "      <th>팔당</th>\n",
              "      <td>1</td>\n",
              "      <td>257</td>\n",
              "      <td>658</td>\n",
              "      <td>1604</td>\n",
              "      <td>1504</td>\n",
              "      <td>1379</td>\n",
              "      <td>1198</td>\n",
              "      <td>1141</td>\n",
              "      <td>1216</td>\n",
              "      <td>1334</td>\n",
              "      <td>...</td>\n",
              "      <td>1856</td>\n",
              "      <td>1570</td>\n",
              "      <td>1203</td>\n",
              "      <td>761</td>\n",
              "      <td>152</td>\n",
              "      <td>0</td>\n",
              "      <td>0</td>\n",
              "      <td>0</td>\n",
              "      <td>0</td>\n",
              "      <td>29013</td>\n",
              "    </tr>\n",
              "    <tr>\n",
              "      <th>회기</th>\n",
              "      <td>999</td>\n",
              "      <td>12774</td>\n",
              "      <td>21333</td>\n",
              "      <td>58961</td>\n",
              "      <td>79615</td>\n",
              "      <td>51749</td>\n",
              "      <td>39787</td>\n",
              "      <td>43759</td>\n",
              "      <td>47566</td>\n",
              "      <td>46408</td>\n",
              "      <td>...</td>\n",
              "      <td>32954</td>\n",
              "      <td>29335</td>\n",
              "      <td>32350</td>\n",
              "      <td>26970</td>\n",
              "      <td>12430</td>\n",
              "      <td>637</td>\n",
              "      <td>0</td>\n",
              "      <td>0</td>\n",
              "      <td>0</td>\n",
              "      <td>847074</td>\n",
              "    </tr>\n",
              "    <tr>\n",
              "      <th>합계</th>\n",
              "      <td>141289</td>\n",
              "      <td>3136882</td>\n",
              "      <td>6507355</td>\n",
              "      <td>16589946</td>\n",
              "      <td>19138774</td>\n",
              "      <td>11913201</td>\n",
              "      <td>8752328</td>\n",
              "      <td>8727191</td>\n",
              "      <td>9544410</td>\n",
              "      <td>9710642</td>\n",
              "      <td>...</td>\n",
              "      <td>10866633</td>\n",
              "      <td>8674976</td>\n",
              "      <td>7964325</td>\n",
              "      <td>6035999</td>\n",
              "      <td>2487912</td>\n",
              "      <td>392171</td>\n",
              "      <td>374</td>\n",
              "      <td>12</td>\n",
              "      <td>0</td>\n",
              "      <td>204392709</td>\n",
              "    </tr>\n",
              "  </tbody>\n",
              "</table>\n",
              "<p>614 rows × 25 columns</p>\n",
              "</div>\n",
              "      <button class=\"colab-df-convert\" onclick=\"convertToInteractive('df-df6481c7-54b6-4cc8-878e-aa618f593d8b')\"\n",
              "              title=\"Convert this dataframe to an interactive table.\"\n",
              "              style=\"display:none;\">\n",
              "        \n",
              "  <svg xmlns=\"http://www.w3.org/2000/svg\" height=\"24px\"viewBox=\"0 0 24 24\"\n",
              "       width=\"24px\">\n",
              "    <path d=\"M0 0h24v24H0V0z\" fill=\"none\"/>\n",
              "    <path d=\"M18.56 5.44l.94 2.06.94-2.06 2.06-.94-2.06-.94-.94-2.06-.94 2.06-2.06.94zm-11 1L8.5 8.5l.94-2.06 2.06-.94-2.06-.94L8.5 2.5l-.94 2.06-2.06.94zm10 10l.94 2.06.94-2.06 2.06-.94-2.06-.94-.94-2.06-.94 2.06-2.06.94z\"/><path d=\"M17.41 7.96l-1.37-1.37c-.4-.4-.92-.59-1.43-.59-.52 0-1.04.2-1.43.59L10.3 9.45l-7.72 7.72c-.78.78-.78 2.05 0 2.83L4 21.41c.39.39.9.59 1.41.59.51 0 1.02-.2 1.41-.59l7.78-7.78 2.81-2.81c.8-.78.8-2.07 0-2.86zM5.41 20L4 18.59l7.72-7.72 1.47 1.35L5.41 20z\"/>\n",
              "  </svg>\n",
              "      </button>\n",
              "      \n",
              "  <style>\n",
              "    .colab-df-container {\n",
              "      display:flex;\n",
              "      flex-wrap:wrap;\n",
              "      gap: 12px;\n",
              "    }\n",
              "\n",
              "    .colab-df-convert {\n",
              "      background-color: #E8F0FE;\n",
              "      border: none;\n",
              "      border-radius: 50%;\n",
              "      cursor: pointer;\n",
              "      display: none;\n",
              "      fill: #1967D2;\n",
              "      height: 32px;\n",
              "      padding: 0 0 0 0;\n",
              "      width: 32px;\n",
              "    }\n",
              "\n",
              "    .colab-df-convert:hover {\n",
              "      background-color: #E2EBFA;\n",
              "      box-shadow: 0px 1px 2px rgba(60, 64, 67, 0.3), 0px 1px 3px 1px rgba(60, 64, 67, 0.15);\n",
              "      fill: #174EA6;\n",
              "    }\n",
              "\n",
              "    [theme=dark] .colab-df-convert {\n",
              "      background-color: #3B4455;\n",
              "      fill: #D2E3FC;\n",
              "    }\n",
              "\n",
              "    [theme=dark] .colab-df-convert:hover {\n",
              "      background-color: #434B5C;\n",
              "      box-shadow: 0px 1px 3px 1px rgba(0, 0, 0, 0.15);\n",
              "      filter: drop-shadow(0px 1px 2px rgba(0, 0, 0, 0.3));\n",
              "      fill: #FFFFFF;\n",
              "    }\n",
              "  </style>\n",
              "\n",
              "      <script>\n",
              "        const buttonEl =\n",
              "          document.querySelector('#df-df6481c7-54b6-4cc8-878e-aa618f593d8b button.colab-df-convert');\n",
              "        buttonEl.style.display =\n",
              "          google.colab.kernel.accessAllowed ? 'block' : 'none';\n",
              "\n",
              "        async function convertToInteractive(key) {\n",
              "          const element = document.querySelector('#df-df6481c7-54b6-4cc8-878e-aa618f593d8b');\n",
              "          const dataTable =\n",
              "            await google.colab.kernel.invokeFunction('convertToInteractive',\n",
              "                                                     [key], {});\n",
              "          if (!dataTable) return;\n",
              "\n",
              "          const docLinkHtml = 'Like what you see? Visit the ' +\n",
              "            '<a target=\"_blank\" href=https://colab.research.google.com/notebooks/data_table.ipynb>data table notebook</a>'\n",
              "            + ' to learn more about interactive tables.';\n",
              "          element.innerHTML = '';\n",
              "          dataTable['output_type'] = 'display_data';\n",
              "          await google.colab.output.renderOutput(dataTable, element);\n",
              "          const docLink = document.createElement('div');\n",
              "          docLink.innerHTML = docLinkHtml;\n",
              "          element.appendChild(docLink);\n",
              "        }\n",
              "      </script>\n",
              "    </div>\n",
              "  </div>\n",
              "  "
            ]
          },
          "metadata": {},
          "execution_count": 324
        }
      ]
    },
    {
      "cell_type": "markdown",
      "id": "5b89167a",
      "metadata": {
        "id": "5b89167a"
      },
      "source": [
        "### 시간대별 승차건수 "
      ]
    },
    {
      "cell_type": "code",
      "execution_count": 325,
      "id": "a2b31850",
      "metadata": {
        "scrolled": false,
        "id": "a2b31850",
        "colab": {
          "base_uri": "https://localhost:8080/"
        },
        "outputId": "f43b8776-9d75-44a3-afa1-1d8b106a4605"
      },
      "outputs": [
        {
          "output_type": "execute_result",
          "data": {
            "text/plain": [
              "00시-01시      392171\n",
              "01시-02시         374\n",
              "02시-03시          12\n",
              "03시-04시           0\n",
              "04시-05시      141289\n",
              "05시-06시     3136882\n",
              "06시-07시     6507355\n",
              "07시-08시    16589946\n",
              "08시-09시    19138774\n",
              "09시-10시    11913201\n",
              "10시-11시     8752328\n",
              "11시-12시     8727191\n",
              "12시-13시     9544410\n",
              "13시-14시     9710642\n",
              "14시-15시     9824783\n",
              "15시-16시    11178312\n",
              "16시-17시    13497470\n",
              "17시-18시    17801486\n",
              "18시-19시    21506238\n",
              "19시-20시    10866633\n",
              "20시-21시     8674976\n",
              "21시-22시     7964325\n",
              "22시-23시     6035999\n",
              "23시-24시     2487912\n",
              "Name: 합계, dtype: int64"
            ]
          },
          "metadata": {},
          "execution_count": 325
        }
      ],
      "source": [
        "s_time = df_in_202211_agg.loc['합계'][:-1].sort_values()\n",
        "s_time = s_time.sort_index()\n",
        "s_time"
      ]
    },
    {
      "cell_type": "code",
      "execution_count": 326,
      "id": "35988c32",
      "metadata": {
        "id": "35988c32",
        "colab": {
          "base_uri": "https://localhost:8080/",
          "height": 491
        },
        "outputId": "dccbb2bf-9c94-4756-98b3-946ae4c8662f"
      },
      "outputs": [
        {
          "output_type": "display_data",
          "data": {
            "text/plain": [
              "<Figure size 1080x504 with 1 Axes>"
            ],
            "image/png": "[encoded data removed]"
          },
          "metadata": {
            "needs_background": "light"
          }
        }
      ],
      "source": [
        "s_time.plot(kind='bar', x=s_time.index, y=s_time.values, figsize=(15,7))\n",
        "plt.title('2022년 11월 시간대별 승차건수', size=15)\n",
        "plt.xlabel('시간대')\n",
        "plt.ylabel('승차건수')\n",
        "plt.xticks(rotation=45)\n",
        "plt.show()"
      ]
    },
    {
      "cell_type": "code",
      "source": [
        "s_time.sort_values(ascending=False).plot(kind='barh', x=s_time.index, y=s_time.values, figsize=(15,7))\n",
        "plt.title('2022년 11월 시간대별 승차건수(순위별)', size=15)\n",
        "plt.xlabel('승차건수')\n",
        "plt.ylabel('시간대')\n",
        "plt.show()"
      ],
      "metadata": {
        "colab": {
          "base_uri": "https://localhost:8080/",
          "height": 460
        },
        "id": "4yEQ4IVJhgF0",
        "outputId": "535ef97e-615f-44bd-ea25-69ece1d4076f"
      },
      "id": "4yEQ4IVJhgF0",
      "execution_count": 327,
      "outputs": [
        {
          "output_type": "display_data",
          "data": {
            "text/plain": [
              "<Figure size 1080x504 with 1 Axes>"
            ],
            "image/png": "[encoded data removed]"
          },
          "metadata": {
            "needs_background": "light"
          }
        }
      ]
    },
    {
      "cell_type": "markdown",
      "id": "4dce41ce",
      "metadata": {
        "id": "4dce41ce"
      },
      "source": [
        "### 지하철역별 승차건수"
      ]
    },
    {
      "cell_type": "code",
      "source": [
        "df_in_202211_agg['합계'][:-1].sort_values(ascending=False).to_frame()"
      ],
      "metadata": {
        "colab": {
          "base_uri": "https://localhost:8080/",
          "height": 455
        },
        "id": "dSuz8c2dqDBa",
        "outputId": "8c9ce243-cab2-4399-9861-ab06d5435156"
      },
      "id": "dSuz8c2dqDBa",
      "execution_count": 328,
      "outputs": [
        {
          "output_type": "execute_result",
          "data": {
            "text/plain": [
              "               합계\n",
              "지하철역             \n",
              "잠실(송파구청)  2234644\n",
              "강남        2226223\n",
              "홍대입구      1895040\n",
              "신림        1681991\n",
              "구로디지털단지   1663835\n",
              "...           ...\n",
              "창동             12\n",
              "계양              9\n",
              "부천시청            2\n",
              "검암              2\n",
              "까치울             2\n",
              "\n",
              "[613 rows x 1 columns]"
            ],
            "text/html": [
              "\n",
              "  <div id=\"df-c1fbc680-2642-4c15-acd5-49c6982ec3ba\">\n",
              "    <div class=\"colab-df-container\">\n",
              "      <div>\n",
              "<style scoped>\n",
              "    .dataframe tbody tr th:only-of-type {\n",
              "        vertical-align: middle;\n",
              "    }\n",
              "\n",
              "    .dataframe tbody tr th {\n",
              "        vertical-align: top;\n",
              "    }\n",
              "\n",
              "    .dataframe thead th {\n",
              "        text-align: right;\n",
              "    }\n",
              "</style>\n",
              "<table border=\"1\" class=\"dataframe\">\n",
              "  <thead>\n",
              "    <tr style=\"text-align: right;\">\n",
              "      <th></th>\n",
              "      <th>합계</th>\n",
              "    </tr>\n",
              "    <tr>\n",
              "      <th>지하철역</th>\n",
              "      <th></th>\n",
              "    </tr>\n",
              "  </thead>\n",
              "  <tbody>\n",
              "    <tr>\n",
              "      <th>잠실(송파구청)</th>\n",
              "      <td>2234644</td>\n",
              "    </tr>\n",
              "    <tr>\n",
              "      <th>강남</th>\n",
              "      <td>2226223</td>\n",
              "    </tr>\n",
              "    <tr>\n",
              "      <th>홍대입구</th>\n",
              "      <td>1895040</td>\n",
              "    </tr>\n",
              "    <tr>\n",
              "      <th>신림</th>\n",
              "      <td>1681991</td>\n",
              "    </tr>\n",
              "    <tr>\n",
              "      <th>구로디지털단지</th>\n",
              "      <td>1663835</td>\n",
              "    </tr>\n",
              "    <tr>\n",
              "      <th>...</th>\n",
              "      <td>...</td>\n",
              "    </tr>\n",
              "    <tr>\n",
              "      <th>창동</th>\n",
              "      <td>12</td>\n",
              "    </tr>\n",
              "    <tr>\n",
              "      <th>계양</th>\n",
              "      <td>9</td>\n",
              "    </tr>\n",
              "    <tr>\n",
              "      <th>부천시청</th>\n",
              "      <td>2</td>\n",
              "    </tr>\n",
              "    <tr>\n",
              "      <th>검암</th>\n",
              "      <td>2</td>\n",
              "    </tr>\n",
              "    <tr>\n",
              "      <th>까치울</th>\n",
              "      <td>2</td>\n",
              "    </tr>\n",
              "  </tbody>\n",
              "</table>\n",
              "<p>613 rows × 1 columns</p>\n",
              "</div>\n",
              "      <button class=\"colab-df-convert\" onclick=\"convertToInteractive('df-c1fbc680-2642-4c15-acd5-49c6982ec3ba')\"\n",
              "              title=\"Convert this dataframe to an interactive table.\"\n",
              "              style=\"display:none;\">\n",
              "        \n",
              "  <svg xmlns=\"http://www.w3.org/2000/svg\" height=\"24px\"viewBox=\"0 0 24 24\"\n",
              "       width=\"24px\">\n",
              "    <path d=\"M0 0h24v24H0V0z\" fill=\"none\"/>\n",
              "    <path d=\"M18.56 5.44l.94 2.06.94-2.06 2.06-.94-2.06-.94-.94-2.06-.94 2.06-2.06.94zm-11 1L8.5 8.5l.94-2.06 2.06-.94-2.06-.94L8.5 2.5l-.94 2.06-2.06.94zm10 10l.94 2.06.94-2.06 2.06-.94-2.06-.94-.94-2.06-.94 2.06-2.06.94z\"/><path d=\"M17.41 7.96l-1.37-1.37c-.4-.4-.92-.59-1.43-.59-.52 0-1.04.2-1.43.59L10.3 9.45l-7.72 7.72c-.78.78-.78 2.05 0 2.83L4 21.41c.39.39.9.59 1.41.59.51 0 1.02-.2 1.41-.59l7.78-7.78 2.81-2.81c.8-.78.8-2.07 0-2.86zM5.41 20L4 18.59l7.72-7.72 1.47 1.35L5.41 20z\"/>\n",
              "  </svg>\n",
              "      </button>\n",
              "      \n",
              "  <style>\n",
              "    .colab-df-container {\n",
              "      display:flex;\n",
              "      flex-wrap:wrap;\n",
              "      gap: 12px;\n",
              "    }\n",
              "\n",
              "    .colab-df-convert {\n",
              "      background-color: #E8F0FE;\n",
              "      border: none;\n",
              "      border-radius: 50%;\n",
              "      cursor: pointer;\n",
              "      display: none;\n",
              "      fill: #1967D2;\n",
              "      height: 32px;\n",
              "      padding: 0 0 0 0;\n",
              "      width: 32px;\n",
              "    }\n",
              "\n",
              "    .colab-df-convert:hover {\n",
              "      background-color: #E2EBFA;\n",
              "      box-shadow: 0px 1px 2px rgba(60, 64, 67, 0.3), 0px 1px 3px 1px rgba(60, 64, 67, 0.15);\n",
              "      fill: #174EA6;\n",
              "    }\n",
              "\n",
              "    [theme=dark] .colab-df-convert {\n",
              "      background-color: #3B4455;\n",
              "      fill: #D2E3FC;\n",
              "    }\n",
              "\n",
              "    [theme=dark] .colab-df-convert:hover {\n",
              "      background-color: #434B5C;\n",
              "      box-shadow: 0px 1px 3px 1px rgba(0, 0, 0, 0.15);\n",
              "      filter: drop-shadow(0px 1px 2px rgba(0, 0, 0, 0.3));\n",
              "      fill: #FFFFFF;\n",
              "    }\n",
              "  </style>\n",
              "\n",
              "      <script>\n",
              "        const buttonEl =\n",
              "          document.querySelector('#df-c1fbc680-2642-4c15-acd5-49c6982ec3ba button.colab-df-convert');\n",
              "        buttonEl.style.display =\n",
              "          google.colab.kernel.accessAllowed ? 'block' : 'none';\n",
              "\n",
              "        async function convertToInteractive(key) {\n",
              "          const element = document.querySelector('#df-c1fbc680-2642-4c15-acd5-49c6982ec3ba');\n",
              "          const dataTable =\n",
              "            await google.colab.kernel.invokeFunction('convertToInteractive',\n",
              "                                                     [key], {});\n",
              "          if (!dataTable) return;\n",
              "\n",
              "          const docLinkHtml = 'Like what you see? Visit the ' +\n",
              "            '<a target=\"_blank\" href=https://colab.research.google.com/notebooks/data_table.ipynb>data table notebook</a>'\n",
              "            + ' to learn more about interactive tables.';\n",
              "          element.innerHTML = '';\n",
              "          dataTable['output_type'] = 'display_data';\n",
              "          await google.colab.output.renderOutput(dataTable, element);\n",
              "          const docLink = document.createElement('div');\n",
              "          docLink.innerHTML = docLinkHtml;\n",
              "          element.appendChild(docLink);\n",
              "        }\n",
              "      </script>\n",
              "    </div>\n",
              "  </div>\n",
              "  "
            ]
          },
          "metadata": {},
          "execution_count": 328
        }
      ]
    },
    {
      "cell_type": "markdown",
      "id": "5b756f5d",
      "metadata": {
        "id": "5b756f5d"
      },
      "source": [
        "## 시간대별 하차 현황"
      ]
    },
    {
      "cell_type": "markdown",
      "id": "90881a99",
      "metadata": {
        "id": "90881a99"
      },
      "source": [
        "### 하차정보 집계 테이블 만들기"
      ]
    },
    {
      "cell_type": "code",
      "execution_count": null,
      "id": "d6adab50",
      "metadata": {
        "scrolled": false,
        "id": "d6adab50"
      },
      "outputs": [],
      "source": [
        "# df_out_202211 카피하여 사용하기"
      ]
    },
    {
      "cell_type": "code",
      "source": [
        "df_out_202211_agg = df_out_202211.copy()"
      ],
      "metadata": {
        "id": "xLXIkCeaTby3"
      },
      "id": "xLXIkCeaTby3",
      "execution_count": 298,
      "outputs": []
    },
    {
      "cell_type": "code",
      "execution_count": null,
      "id": "9f4e96e3",
      "metadata": {
        "id": "9f4e96e3"
      },
      "outputs": [],
      "source": [
        "# 인덱스 변경('지하철역')"
      ]
    },
    {
      "cell_type": "code",
      "source": [
        "df_out_202211_agg.index = df_out_202211_agg['지하철역']"
      ],
      "metadata": {
        "id": "2HH1LUAQTiUl"
      },
      "id": "2HH1LUAQTiUl",
      "execution_count": 299,
      "outputs": []
    },
    {
      "cell_type": "code",
      "execution_count": 282,
      "id": "a2a51c80",
      "metadata": {
        "id": "a2a51c80"
      },
      "outputs": [],
      "source": [
        "# 컬럼 삭제('사용월','호선명','지하철역')"
      ]
    },
    {
      "cell_type": "code",
      "source": [
        "df_out_202211_agg.drop(columns=['사용월','호선명','지하철역'], inplace=True)"
      ],
      "metadata": {
        "id": "GPdUu1PxTlxF"
      },
      "id": "GPdUu1PxTlxF",
      "execution_count": 300,
      "outputs": []
    },
    {
      "cell_type": "code",
      "execution_count": null,
      "id": "05409ef1",
      "metadata": {
        "id": "05409ef1"
      },
      "outputs": [],
      "source": [
        "# 행,열 합계"
      ]
    },
    {
      "cell_type": "code",
      "execution_count": 301,
      "id": "d46bf8e5",
      "metadata": {
        "scrolled": false,
        "id": "d46bf8e5"
      },
      "outputs": [],
      "source": [
        "df_out_202211_agg.loc['합계'] = df_out_202211_agg.apply('sum', axis=0)"
      ]
    },
    {
      "cell_type": "code",
      "execution_count": 302,
      "id": "6fe415eb",
      "metadata": {
        "scrolled": false,
        "id": "6fe415eb"
      },
      "outputs": [],
      "source": [
        "df_out_202211_agg['합계'] = df_out_202211_agg.apply('sum', axis=1)"
      ]
    },
    {
      "cell_type": "markdown",
      "id": "edb1f6d8",
      "metadata": {
        "id": "edb1f6d8"
      },
      "source": [
        "### 시간대별 하차 건수"
      ]
    },
    {
      "cell_type": "code",
      "execution_count": 303,
      "id": "30b63edd",
      "metadata": {
        "scrolled": false,
        "id": "30b63edd",
        "colab": {
          "base_uri": "https://localhost:8080/"
        },
        "outputId": "4941df2a-d608-4ba2-f6cc-1afaa9c2e12e"
      },
      "outputs": [
        {
          "output_type": "execute_result",
          "data": {
            "text/plain": [
              "00시-01시     1355687\n",
              "01시-02시       45928\n",
              "02시-03시          37\n",
              "03시-04시           0\n",
              "04시-05시        1887\n",
              "05시-06시      802550\n",
              "06시-07시     4226288\n",
              "07시-08시     9826778\n",
              "08시-09시    22671831\n",
              "09시-10시    15308441\n",
              "10시-11시     9777910\n",
              "11시-12시     8800226\n",
              "12시-13시     9197181\n",
              "13시-14시     9867702\n",
              "14시-15시     9487871\n",
              "15시-16시    10180487\n",
              "16시-17시    11740681\n",
              "17시-18시    15028987\n",
              "18시-19시    20804910\n",
              "19시-20시    15677019\n",
              "20시-21시     9163061\n",
              "21시-22시     8163015\n",
              "22시-23시     7155549\n",
              "23시-24시     4411796\n",
              "Name: 합계, dtype: int64"
            ]
          },
          "metadata": {},
          "execution_count": 303
        }
      ],
      "source": [
        "s_time1 = df_out_202211_agg.loc['합계'][:-1].sort_values()\n",
        "s_time1 = s_time1.sort_index()\n",
        "s_time1"
      ]
    },
    {
      "cell_type": "code",
      "execution_count": 304,
      "id": "24c8c23d",
      "metadata": {
        "scrolled": true,
        "id": "24c8c23d",
        "colab": {
          "base_uri": "https://localhost:8080/",
          "height": 491
        },
        "outputId": "48967885-95aa-458d-8d1f-d1163be5059e"
      },
      "outputs": [
        {
          "output_type": "display_data",
          "data": {
            "text/plain": [
              "<Figure size 1080x504 with 1 Axes>"
            ],
            "image/png": "[encoded data removed]"
          },
          "metadata": {
            "needs_background": "light"
          }
        }
      ],
      "source": [
        "s_time.plot(kind='bar', x=s_time.index, y=s_time.values, figsize=(15,7))\n",
        "plt.title('2022년 11월 시간대별 하차건수', size=15)\n",
        "plt.xlabel('시간대')\n",
        "plt.ylabel('하차건수')\n",
        "plt.xticks(rotation=45)\n",
        "plt.show()"
      ]
    },
    {
      "cell_type": "code",
      "source": [
        "s_time.sort_values(ascending=False).plot(kind='barh', x=s_time.index, y=s_time.values, figsize=(15,7))\n",
        "plt.title('2022년 11월 시간대별 하차건수(순위별)', size=15)\n",
        "plt.xlabel('하차건수')\n",
        "plt.ylabel('시간대')\n",
        "plt.xticks(rotation=45)\n",
        "plt.show()"
      ],
      "metadata": {
        "colab": {
          "base_uri": "https://localhost:8080/",
          "height": 468
        },
        "id": "A9qAlxXYlDTq",
        "outputId": "0b11275e-72c0-447a-d24b-4421d52bea35"
      },
      "id": "A9qAlxXYlDTq",
      "execution_count": 305,
      "outputs": [
        {
          "output_type": "display_data",
          "data": {
            "text/plain": [
              "<Figure size 1080x504 with 1 Axes>"
            ],
            "image/png": "[encoded data removed]"
          },
          "metadata": {
            "needs_background": "light"
          }
        }
      ]
    },
    {
      "cell_type": "markdown",
      "id": "74c9f9b3",
      "metadata": {
        "id": "74c9f9b3"
      },
      "source": [
        "### 지하철역별 하차건수"
      ]
    },
    {
      "cell_type": "code",
      "source": [
        "df_out_202211_agg['합계'][:-1].sort_values(ascending=False).to_frame()"
      ],
      "metadata": {
        "colab": {
          "base_uri": "https://localhost:8080/",
          "height": 455
        },
        "id": "avo0MWBhqpfC",
        "outputId": "63207568-006d-450e-eb42-5210c1441a19"
      },
      "execution_count": 311,
      "outputs": [
        {
          "output_type": "execute_result",
          "data": {
            "text/plain": [
              "               합계\n",
              "지하철역             \n",
              "잠실(송파구청)  2209575\n",
              "강남        2170050\n",
              "홍대입구      2031570\n",
              "구로디지털단지   1654507\n",
              "신림        1616783\n",
              "...           ...\n",
              "부천시청            0\n",
              "연신내             0\n",
              "복정              0\n",
              "충무로             0\n",
              "계양              0\n",
              "\n",
              "[613 rows x 1 columns]"
            ],
            "text/html": [
              "\n",
              "  <div id=\"df-9e029e3b-7eeb-471f-b8ba-38f2cbe57de6\">\n",
              "    <div class=\"colab-df-container\">\n",
              "      <div>\n",
              "<style scoped>\n",
              "    .dataframe tbody tr th:only-of-type {\n",
              "        vertical-align: middle;\n",
              "    }\n",
              "\n",
              "    .dataframe tbody tr th {\n",
              "        vertical-align: top;\n",
              "    }\n",
              "\n",
              "    .dataframe thead th {\n",
              "        text-align: right;\n",
              "    }\n",
              "</style>\n",
              "<table border=\"1\" class=\"dataframe\">\n",
              "  <thead>\n",
              "    <tr style=\"text-align: right;\">\n",
              "      <th></th>\n",
              "      <th>합계</th>\n",
              "    </tr>\n",
              "    <tr>\n",
              "      <th>지하철역</th>\n",
              "      <th></th>\n",
              "    </tr>\n",
              "  </thead>\n",
              "  <tbody>\n",
              "    <tr>\n",
              "      <th>잠실(송파구청)</th>\n",
              "      <td>2209575</td>\n",
              "    </tr>\n",
              "    <tr>\n",
              "      <th>강남</th>\n",
              "      <td>2170050</td>\n",
              "    </tr>\n",
              "    <tr>\n",
              "      <th>홍대입구</th>\n",
              "      <td>2031570</td>\n",
              "    </tr>\n",
              "    <tr>\n",
              "      <th>구로디지털단지</th>\n",
              "      <td>1654507</td>\n",
              "    </tr>\n",
              "    <tr>\n",
              "      <th>신림</th>\n",
              "      <td>1616783</td>\n",
              "    </tr>\n",
              "    <tr>\n",
              "      <th>...</th>\n",
              "      <td>...</td>\n",
              "    </tr>\n",
              "    <tr>\n",
              "      <th>부천시청</th>\n",
              "      <td>0</td>\n",
              "    </tr>\n",
              "    <tr>\n",
              "      <th>연신내</th>\n",
              "      <td>0</td>\n",
              "    </tr>\n",
              "    <tr>\n",
              "      <th>복정</th>\n",
              "      <td>0</td>\n",
              "    </tr>\n",
              "    <tr>\n",
              "      <th>충무로</th>\n",
              "      <td>0</td>\n",
              "    </tr>\n",
              "    <tr>\n",
              "      <th>계양</th>\n",
              "      <td>0</td>\n",
              "    </tr>\n",
              "  </tbody>\n",
              "</table>\n",
              "<p>613 rows × 1 columns</p>\n",
              "</div>\n",
              "      <button class=\"colab-df-convert\" onclick=\"convertToInteractive('df-9e029e3b-7eeb-471f-b8ba-38f2cbe57de6')\"\n",
              "              title=\"Convert this dataframe to an interactive table.\"\n",
              "              style=\"display:none;\">\n",
              "        \n",
              "  <svg xmlns=\"http://www.w3.org/2000/svg\" height=\"24px\"viewBox=\"0 0 24 24\"\n",
              "       width=\"24px\">\n",
              "    <path d=\"M0 0h24v24H0V0z\" fill=\"none\"/>\n",
              "    <path d=\"M18.56 5.44l.94 2.06.94-2.06 2.06-.94-2.06-.94-.94-2.06-.94 2.06-2.06.94zm-11 1L8.5 8.5l.94-2.06 2.06-.94-2.06-.94L8.5 2.5l-.94 2.06-2.06.94zm10 10l.94 2.06.94-2.06 2.06-.94-2.06-.94-.94-2.06-.94 2.06-2.06.94z\"/><path d=\"M17.41 7.96l-1.37-1.37c-.4-.4-.92-.59-1.43-.59-.52 0-1.04.2-1.43.59L10.3 9.45l-7.72 7.72c-.78.78-.78 2.05 0 2.83L4 21.41c.39.39.9.59 1.41.59.51 0 1.02-.2 1.41-.59l7.78-7.78 2.81-2.81c.8-.78.8-2.07 0-2.86zM5.41 20L4 18.59l7.72-7.72 1.47 1.35L5.41 20z\"/>\n",
              "  </svg>\n",
              "      </button>\n",
              "      \n",
              "  <style>\n",
              "    .colab-df-container {\n",
              "      display:flex;\n",
              "      flex-wrap:wrap;\n",
              "      gap: 12px;\n",
              "    }\n",
              "\n",
              "    .colab-df-convert {\n",
              "      background-color: #E8F0FE;\n",
              "      border: none;\n",
              "      border-radius: 50%;\n",
              "      cursor: pointer;\n",
              "      display: none;\n",
              "      fill: #1967D2;\n",
              "      height: 32px;\n",
              "      padding: 0 0 0 0;\n",
              "      width: 32px;\n",
              "    }\n",
              "\n",
              "    .colab-df-convert:hover {\n",
              "      background-color: #E2EBFA;\n",
              "      box-shadow: 0px 1px 2px rgba(60, 64, 67, 0.3), 0px 1px 3px 1px rgba(60, 64, 67, 0.15);\n",
              "      fill: #174EA6;\n",
              "    }\n",
              "\n",
              "    [theme=dark] .colab-df-convert {\n",
              "      background-color: #3B4455;\n",
              "      fill: #D2E3FC;\n",
              "    }\n",
              "\n",
              "    [theme=dark] .colab-df-convert:hover {\n",
              "      background-color: #434B5C;\n",
              "      box-shadow: 0px 1px 3px 1px rgba(0, 0, 0, 0.15);\n",
              "      filter: drop-shadow(0px 1px 2px rgba(0, 0, 0, 0.3));\n",
              "      fill: #FFFFFF;\n",
              "    }\n",
              "  </style>\n",
              "\n",
              "      <script>\n",
              "        const buttonEl =\n",
              "          document.querySelector('#df-9e029e3b-7eeb-471f-b8ba-38f2cbe57de6 button.colab-df-convert');\n",
              "        buttonEl.style.display =\n",
              "          google.colab.kernel.accessAllowed ? 'block' : 'none';\n",
              "\n",
              "        async function convertToInteractive(key) {\n",
              "          const element = document.querySelector('#df-9e029e3b-7eeb-471f-b8ba-38f2cbe57de6');\n",
              "          const dataTable =\n",
              "            await google.colab.kernel.invokeFunction('convertToInteractive',\n",
              "                                                     [key], {});\n",
              "          if (!dataTable) return;\n",
              "\n",
              "          const docLinkHtml = 'Like what you see? Visit the ' +\n",
              "            '<a target=\"_blank\" href=https://colab.research.google.com/notebooks/data_table.ipynb>data table notebook</a>'\n",
              "            + ' to learn more about interactive tables.';\n",
              "          element.innerHTML = '';\n",
              "          dataTable['output_type'] = 'display_data';\n",
              "          await google.colab.output.renderOutput(dataTable, element);\n",
              "          const docLink = document.createElement('div');\n",
              "          docLink.innerHTML = docLinkHtml;\n",
              "          element.appendChild(docLink);\n",
              "        }\n",
              "      </script>\n",
              "    </div>\n",
              "  </div>\n",
              "  "
            ]
          },
          "metadata": {},
          "execution_count": 311
        }
      ],
      "id": "avo0MWBhqpfC"
    }
  ],
  "metadata": {
    "kernelspec": {
      "display_name": "Python 3 (ipykernel)",
      "language": "python",
      "name": "python3"
    },
    "language_info": {
      "codemirror_mode": {
        "name": "ipython",
        "version": 3
      },
      "file_extension": ".py",
      "mimetype": "text/x-python",
      "name": "python",
      "nbconvert_exporter": "python",
      "pygments_lexer": "ipython3",
      "version": "3.8.7"
    },
    "toc": {
      "base_numbering": 1,
      "nav_menu": {},
      "number_sections": true,
      "sideBar": true,
      "skip_h1_title": false,
      "title_cell": "Table of Contents",
      "title_sidebar": "Contents",
      "toc_cell": false,
      "toc_position": {
        "height": "calc(100% - 180px)",
        "left": "10px",
        "top": "150px",
        "width": "307.188px"
      },
      "toc_section_display": true,
      "toc_window_display": true
    },
    "colab": {
      "provenance": [],
      "collapsed_sections": [
        "5b0e4080",
        "72465f81",
        "4f5acb91",
        "d2909678",
        "a01084c5",
        "274e06e0",
        "fc5a56ba",
        "46d78b5c",
        "48mfORgqsYSQ",
        "lGX6Ib8qsYSR",
        "pjKTrOXosYSU",
        "834db46d",
        "fc8ba1a1",
        "91a87020",
        "fa07625a",
        "9be619fe",
        "5b756f5d"
      ]
    }
  },
  "nbformat": 4,
  "nbformat_minor": 5
}