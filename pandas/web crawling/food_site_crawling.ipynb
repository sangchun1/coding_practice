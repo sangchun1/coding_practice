{
 "cells": [
  {
   "cell_type": "markdown",
   "id": "23d6b8bb",
   "metadata": {},
   "source": [
    "# 식신사이트 크롤링"
   ]
  },
  {
   "cell_type": "code",
   "execution_count": 13,
   "id": "2ee29c0b",
   "metadata": {},
   "outputs": [],
   "source": [
    "import pandas as pd\n",
    "from urllib.parse import quote\n",
    "import requests\n",
    "from bs4 import BeautifulSoup"
   ]
  },
  {
   "cell_type": "code",
   "execution_count": 25,
   "id": "84d2437f",
   "metadata": {},
   "outputs": [],
   "source": [
    "# https://www.siksinhot.com/ko/search?keywords=%EC%8B%A0%EB%85%BC%ED%98%84%EC%97%AD\n",
    "site = 'https://www.siksinhot.com/ko/'\n",
    "url = f\"{site}search?keywords={quote('신논현역')}\"\n",
    "response = requests.get(url)\n",
    "soup = BeautifulSoup(response.text, 'html.parser')"
   ]
  },
  {
   "cell_type": "markdown",
   "id": "be047f92",
   "metadata": {},
   "source": [
    "## 1. 필요한 데이터 찾기"
   ]
  },
  {
   "cell_type": "code",
   "execution_count": 32,
   "id": "7c83d1a4",
   "metadata": {},
   "outputs": [
    {
     "data": {
      "text/plain": [
       "20"
      ]
     },
     "execution_count": 32,
     "metadata": {},
     "output_type": "execute_result"
    }
   ],
   "source": [
    "# 식당 리스트 저장하기\n",
    "lis = soup.select_one('.localFood_list').find_all('li')\n",
    "len(lis)"
   ]
  },
  {
   "cell_type": "code",
   "execution_count": 52,
   "id": "956d24de",
   "metadata": {
    "collapsed": true
   },
   "outputs": [
    {
     "data": {
      "text/plain": [
       "<li data-reactid=\"72\"><figure data-reactid=\"73\"><a data-reactid=\"74\" href=\"https://www.siksinhot.com/P/101542\" target=\"_blank\"><img alt=\"원강 , 서울특별시 강남구 학동로6길 16\" data-reactid=\"75\" height=\"448\" src=\"https://img.siksinhot.com/place/1463987224153019.png?w=560&amp;h=448&amp;c=Y\" width=\"560\"/><img alt=\"best\" data-reactid=\"76\" src=\"/static2/images/common/ico_best_3.png\"/></a></figure><figcaption data-reactid=\"77\"><a class=\"textBox\" data-reactid=\"78\" href=\"https://www.siksinhot.com/P/101542\" target=\"_blank\"><h2 data-reactid=\"79\">원강</h2><span class=\"score\" data-reactid=\"80\">4.1</span></a><p class=\"cate\" data-reactid=\"81\"><a data-reactid=\"82\" href=\"/search?keywords=신논현/영동시장\">신논현/영동시장</a><!-- react-text: 83 --> / <!-- /react-text --><a data-reactid=\"84\" href=\"/search?keywords=소구이/불고기\">소구이/불고기</a></p><p class=\"counting\" data-reactid=\"85\"><img data-reactid=\"86\" src=\"/static2/images/search/img/icon_view.png\"/><span data-reactid=\"87\">30130</span><img data-reactid=\"88\" src=\"/static2/images/search/img/icon_bookmark.png\"/><span data-reactid=\"89\">129</span></p></figcaption></li>"
      ]
     },
     "execution_count": 52,
     "metadata": {},
     "output_type": "execute_result"
    }
   ],
   "source": [
    "# 한 식당 가져오기\n",
    "li = lis[0]\n",
    "li"
   ]
  },
  {
   "cell_type": "code",
   "execution_count": 53,
   "id": "f758f1f8",
   "metadata": {},
   "outputs": [
    {
     "data": {
      "text/plain": [
       "'원강'"
      ]
     },
     "execution_count": 53,
     "metadata": {},
     "output_type": "execute_result"
    }
   ],
   "source": [
    "# 식당명\n",
    "store = li.select_one('.textBox > h2').text\n",
    "store"
   ]
  },
  {
   "cell_type": "code",
   "execution_count": 54,
   "id": "b09e4d54",
   "metadata": {},
   "outputs": [],
   "source": [
    "# 평점\n",
    "# float(), int()로 변환하고자 할때는 반드시 예외처리를 해줘야 함\n",
    "# 점수가 없을 경우가 있기 때문에\n",
    "try:\n",
    "    score = float(li.select_one('.score').text) # 평점이 있을 경우\n",
    "except:\n",
    "    score = 0.0 # 평점이 없을 경우 0.0으로 지정"
   ]
  },
  {
   "cell_type": "code",
   "execution_count": 67,
   "id": "0bb1392c",
   "metadata": {},
   "outputs": [
    {
     "data": {
      "text/plain": [
       "'강남역'"
      ]
     },
     "execution_count": 67,
     "metadata": {},
     "output_type": "execute_result"
    }
   ],
   "source": [
    "# 장소\n",
    "place = li.select_one('.cate').find_all('a')[0].text\n",
    "place"
   ]
  },
  {
   "cell_type": "code",
   "execution_count": 69,
   "id": "23e282cf",
   "metadata": {},
   "outputs": [
    {
     "data": {
      "text/plain": [
       "'냉면/막국수'"
      ]
     },
     "execution_count": 69,
     "metadata": {},
     "output_type": "execute_result"
    }
   ],
   "source": [
    "# 음식종류\n",
    "# menu = li.select_one('.cate').text.split('/')[-1].strip()\n",
    "menu = li.select_one('.cate').find_all('a')[1].text\n",
    "menu"
   ]
  },
  {
   "cell_type": "markdown",
   "id": "4eba9a31",
   "metadata": {},
   "source": [
    "## 2. 리스트에 저장"
   ]
  },
  {
   "cell_type": "code",
   "execution_count": 73,
   "id": "361b6eab",
   "metadata": {},
   "outputs": [],
   "source": [
    "line = []\n",
    "for li in lis:\n",
    "    store = li.select_one('.textBox > h2').text # 식당명\n",
    "    try:\n",
    "        score = float(li.select_one('.score').text) # 평점\n",
    "    except:\n",
    "        score = 0.0\n",
    "    place = li.select_one('.cate').find_all('a')[0].text.split('/')[0].strip() # 장소\n",
    "    menu = li.select_one('.cate').find_all('a')[1].text # 음식종류\n",
    "    line.append({\"상호\" : store, \"평점\" : score, \"위치\" : place, \"메뉴\" : menu})"
   ]
  },
  {
   "cell_type": "markdown",
   "id": "a30aa855",
   "metadata": {},
   "source": [
    "## 3. 데이터 프레임으로 변환"
   ]
  },
  {
   "cell_type": "code",
   "execution_count": 74,
   "id": "d4658954",
   "metadata": {},
   "outputs": [],
   "source": [
    "df = pd.DataFrame(line)"
   ]
  },
  {
   "cell_type": "code",
   "execution_count": 75,
   "id": "89369fbc",
   "metadata": {
    "collapsed": true
   },
   "outputs": [
    {
     "data": {
      "text/html": [
       "<div>\n",
       "<style scoped>\n",
       "    .dataframe tbody tr th:only-of-type {\n",
       "        vertical-align: middle;\n",
       "    }\n",
       "\n",
       "    .dataframe tbody tr th {\n",
       "        vertical-align: top;\n",
       "    }\n",
       "\n",
       "    .dataframe thead th {\n",
       "        text-align: right;\n",
       "    }\n",
       "</style>\n",
       "<table border=\"1\" class=\"dataframe\">\n",
       "  <thead>\n",
       "    <tr style=\"text-align: right;\">\n",
       "      <th></th>\n",
       "      <th>상호</th>\n",
       "      <th>평점</th>\n",
       "      <th>위치</th>\n",
       "      <th>메뉴</th>\n",
       "    </tr>\n",
       "  </thead>\n",
       "  <tbody>\n",
       "    <tr>\n",
       "      <th>0</th>\n",
       "      <td>원강</td>\n",
       "      <td>4.1</td>\n",
       "      <td>신논현</td>\n",
       "      <td>소구이/불고기</td>\n",
       "    </tr>\n",
       "    <tr>\n",
       "      <th>1</th>\n",
       "      <td>스시려 프리미엄</td>\n",
       "      <td>4.7</td>\n",
       "      <td>강남역</td>\n",
       "      <td>일식</td>\n",
       "    </tr>\n",
       "    <tr>\n",
       "      <th>2</th>\n",
       "      <td>영동삼미숯불갈비</td>\n",
       "      <td>4.2</td>\n",
       "      <td>신논현</td>\n",
       "      <td>돼지갈비</td>\n",
       "    </tr>\n",
       "    <tr>\n",
       "      <th>3</th>\n",
       "      <td>강남교자 본점</td>\n",
       "      <td>4.2</td>\n",
       "      <td>강남역</td>\n",
       "      <td>칼국수/국수</td>\n",
       "    </tr>\n",
       "    <tr>\n",
       "      <th>4</th>\n",
       "      <td>리북집</td>\n",
       "      <td>4.1</td>\n",
       "      <td>신논현</td>\n",
       "      <td>족발/보쌈</td>\n",
       "    </tr>\n",
       "    <tr>\n",
       "      <th>5</th>\n",
       "      <td>아빠곰수제돈까스</td>\n",
       "      <td>4.5</td>\n",
       "      <td>신논현</td>\n",
       "      <td>경양식/돈가스</td>\n",
       "    </tr>\n",
       "    <tr>\n",
       "      <th>6</th>\n",
       "      <td>도치피자 강남점</td>\n",
       "      <td>4.4</td>\n",
       "      <td>강남역</td>\n",
       "      <td>이탈리안</td>\n",
       "    </tr>\n",
       "    <tr>\n",
       "      <th>7</th>\n",
       "      <td>청류벽</td>\n",
       "      <td>4.2</td>\n",
       "      <td>강남역</td>\n",
       "      <td>칼국수/국수</td>\n",
       "    </tr>\n",
       "    <tr>\n",
       "      <th>8</th>\n",
       "      <td>함지곱창</td>\n",
       "      <td>4.2</td>\n",
       "      <td>신논현</td>\n",
       "      <td>곱창/대창</td>\n",
       "    </tr>\n",
       "    <tr>\n",
       "      <th>9</th>\n",
       "      <td>히까리</td>\n",
       "      <td>4.2</td>\n",
       "      <td>신논현</td>\n",
       "      <td>우동/소바</td>\n",
       "    </tr>\n",
       "    <tr>\n",
       "      <th>10</th>\n",
       "      <td>아나고야</td>\n",
       "      <td>4.1</td>\n",
       "      <td>신논현</td>\n",
       "      <td>해물탕/해물요리</td>\n",
       "    </tr>\n",
       "    <tr>\n",
       "      <th>11</th>\n",
       "      <td>띠엘로</td>\n",
       "      <td>4.0</td>\n",
       "      <td>강남역</td>\n",
       "      <td>유러피안</td>\n",
       "    </tr>\n",
       "    <tr>\n",
       "      <th>12</th>\n",
       "      <td>시골야채된장</td>\n",
       "      <td>4.0</td>\n",
       "      <td>강남역</td>\n",
       "      <td>비빔밥/돌솥밥/쌈밥</td>\n",
       "    </tr>\n",
       "    <tr>\n",
       "      <th>13</th>\n",
       "      <td>강남원주추어탕</td>\n",
       "      <td>4.0</td>\n",
       "      <td>신논현</td>\n",
       "      <td>해물탕/해물요리</td>\n",
       "    </tr>\n",
       "    <tr>\n",
       "      <th>14</th>\n",
       "      <td>배꼽집</td>\n",
       "      <td>3.9</td>\n",
       "      <td>신논현</td>\n",
       "      <td>육회/육사시미</td>\n",
       "    </tr>\n",
       "    <tr>\n",
       "      <th>15</th>\n",
       "      <td>노들강 본채</td>\n",
       "      <td>3.9</td>\n",
       "      <td>신논현</td>\n",
       "      <td>남도요리</td>\n",
       "    </tr>\n",
       "    <tr>\n",
       "      <th>16</th>\n",
       "      <td>맛보리생돼지김치두루치기</td>\n",
       "      <td>3.7</td>\n",
       "      <td>강남역</td>\n",
       "      <td>한정식</td>\n",
       "    </tr>\n",
       "    <tr>\n",
       "      <th>17</th>\n",
       "      <td>큐리오</td>\n",
       "      <td>0.0</td>\n",
       "      <td>신논현</td>\n",
       "      <td>프렌치</td>\n",
       "    </tr>\n",
       "    <tr>\n",
       "      <th>18</th>\n",
       "      <td>위트앤미트W&amp;M</td>\n",
       "      <td>0.0</td>\n",
       "      <td>신논현</td>\n",
       "      <td>버거</td>\n",
       "    </tr>\n",
       "    <tr>\n",
       "      <th>19</th>\n",
       "      <td>봉피양제주 강남점</td>\n",
       "      <td>4.2</td>\n",
       "      <td>강남역</td>\n",
       "      <td>냉면/막국수</td>\n",
       "    </tr>\n",
       "  </tbody>\n",
       "</table>\n",
       "</div>"
      ],
      "text/plain": [
       "              상호   평점   위치          메뉴\n",
       "0             원강  4.1  신논현     소구이/불고기\n",
       "1       스시려 프리미엄  4.7  강남역          일식\n",
       "2       영동삼미숯불갈비  4.2  신논현        돼지갈비\n",
       "3        강남교자 본점  4.2  강남역      칼국수/국수\n",
       "4            리북집  4.1  신논현       족발/보쌈\n",
       "5       아빠곰수제돈까스  4.5  신논현     경양식/돈가스\n",
       "6       도치피자 강남점  4.4  강남역        이탈리안\n",
       "7            청류벽  4.2  강남역      칼국수/국수\n",
       "8           함지곱창  4.2  신논현       곱창/대창\n",
       "9            히까리  4.2  신논현       우동/소바\n",
       "10          아나고야  4.1  신논현    해물탕/해물요리\n",
       "11           띠엘로  4.0  강남역        유러피안\n",
       "12        시골야채된장  4.0  강남역  비빔밥/돌솥밥/쌈밥\n",
       "13       강남원주추어탕  4.0  신논현    해물탕/해물요리\n",
       "14           배꼽집  3.9  신논현     육회/육사시미\n",
       "15        노들강 본채  3.9  신논현        남도요리\n",
       "16  맛보리생돼지김치두루치기  3.7  강남역         한정식\n",
       "17           큐리오  0.0  신논현         프렌치\n",
       "18      위트앤미트W&M  0.0  신논현          버거\n",
       "19     봉피양제주 강남점  4.2  강남역      냉면/막국수"
      ]
     },
     "execution_count": 75,
     "metadata": {},
     "output_type": "execute_result"
    }
   ],
   "source": [
    "df"
   ]
  },
  {
   "cell_type": "markdown",
   "id": "dea1ffe1",
   "metadata": {},
   "source": [
    "## 4. csv 파일로 변환"
   ]
  },
  {
   "cell_type": "code",
   "execution_count": 77,
   "id": "40351de3",
   "metadata": {},
   "outputs": [],
   "source": [
    "df.to_csv('식신맛집(신논현역).csv')"
   ]
  }
 ],
 "metadata": {
  "kernelspec": {
   "display_name": "Python 3 (ipykernel)",
   "language": "python",
   "name": "python3"
  },
  "language_info": {
   "codemirror_mode": {
    "name": "ipython",
    "version": 3
   },
   "file_extension": ".py",
   "mimetype": "text/x-python",
   "name": "python",
   "nbconvert_exporter": "python",
   "pygments_lexer": "ipython3",
   "version": "3.9.12"
  }
 },
 "nbformat": 4,
 "nbformat_minor": 5
}
