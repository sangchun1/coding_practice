{
 "cells": [
  {
   "cell_type": "markdown",
   "id": "d02d816e",
   "metadata": {},
   "source": [
    "# CGV 무비차트 크롤링"
   ]
  },
  {
   "cell_type": "code",
   "execution_count": 3,
   "id": "6ec65d8a",
   "metadata": {},
   "outputs": [],
   "source": [
    "import pandas as pd\n",
    "import requests\n",
    "from bs4 import BeautifulSoup\n",
    "url = \"http://www.cgv.co.kr/movies/?lt=1&ft=0\"\n",
    "header = {'User-Agent':'Mozilla/5.0 (Windows NT 6.3; Trident/7.0; rv:11.0) like Gecko'}\n",
    "req = requests.get(url, headers=header)\n",
    "soup = BeautifulSoup(req.text, 'html.parser')"
   ]
  },
  {
   "cell_type": "markdown",
   "id": "72c86e01",
   "metadata": {},
   "source": [
    "## 1. 필요한 데이터 찾기"
   ]
  },
  {
   "cell_type": "code",
   "execution_count": 14,
   "id": "9b836cef",
   "metadata": {},
   "outputs": [],
   "source": [
    "# 무비 차트 태그를 찾아서 리스트로 저장하기\n",
    "movie_list = soup.select('.sect-movie-chart')[0].find_all('li')"
   ]
  },
  {
   "cell_type": "code",
   "execution_count": 15,
   "id": "4b81672e",
   "metadata": {},
   "outputs": [],
   "source": [
    "# 영화 한개 고르기\n",
    "movie = movie_list[2]"
   ]
  },
  {
   "cell_type": "code",
   "execution_count": 16,
   "id": "75092b64",
   "metadata": {},
   "outputs": [
    {
     "data": {
      "text/plain": [
       "'교섭'"
      ]
     },
     "execution_count": 16,
     "metadata": {},
     "output_type": "execute_result"
    }
   ],
   "source": [
    "# 제목\n",
    "title = movie.select_one('.box-contents').find('strong').text.strip()\n",
    "title"
   ]
  },
  {
   "cell_type": "code",
   "execution_count": 18,
   "id": "2229cec0",
   "metadata": {},
   "outputs": [],
   "source": [
    "# 예매율\n",
    "try:\n",
    "    percent = float(movie.select_one('.score').find('span').text.replace('%', ''))\n",
    "except:\n",
    "    percent = 0.0"
   ]
  },
  {
   "cell_type": "code",
   "execution_count": 19,
   "id": "6dd721bc",
   "metadata": {},
   "outputs": [],
   "source": [
    "# 평점\n",
    "try:\n",
    "    rating = float(movie.select_one('.egg-gage > span.percent').text.replace('%', ''))\n",
    "except:\n",
    "    rating = float('NaN')"
   ]
  },
  {
   "cell_type": "code",
   "execution_count": 20,
   "id": "1cf0def7",
   "metadata": {},
   "outputs": [
    {
     "data": {
      "text/plain": [
       "'2023.01.18'"
      ]
     },
     "execution_count": 20,
     "metadata": {},
     "output_type": "execute_result"
    }
   ],
   "source": [
    "# 개봉일\n",
    "release_date = movie.select_one('.txt-info').text.strip().split(\" \")[0]\n",
    "release_date"
   ]
  },
  {
   "cell_type": "markdown",
   "id": "eb096a95",
   "metadata": {},
   "source": [
    "## 2. 리스트에 저장"
   ]
  },
  {
   "cell_type": "code",
   "execution_count": 10,
   "id": "56250902",
   "metadata": {},
   "outputs": [],
   "source": [
    "chart = []\n",
    "for i, movie in enumerate(soup.select('.sect-movie-chart')[0].find_all('li')):\n",
    "    title = movie.select_one('.box-contents').find('strong').text.strip() # 제목\n",
    "    try:\n",
    "        percent = float(movie.select_one('.score').find('span').text.replace('%', '')) # 예매율\n",
    "    except:\n",
    "        percent = 0.0\n",
    "    try:\n",
    "        rating = float(movie.select_one('.egg-gage > span.percent').text.replace('%', '')) # 평점\n",
    "    except:\n",
    "        rating = float('NaN')\n",
    "    release_date = movie.select_one('.txt-info').text.strip().split(\" \")[0] # 개봉일\n",
    "    chart.append({\n",
    "        '순위' : i+1, '제목' : title, '개봉일' : release_date, '예매율' : percent, '평점' : rating\n",
    "    })"
   ]
  },
  {
   "cell_type": "markdown",
   "id": "5128c0c5",
   "metadata": {},
   "source": [
    "## 3. 데이터 프레임으로 변환"
   ]
  },
  {
   "cell_type": "code",
   "execution_count": 11,
   "id": "07e020ed",
   "metadata": {
    "collapsed": true
   },
   "outputs": [
    {
     "data": {
      "text/html": [
       "<div>\n",
       "<style scoped>\n",
       "    .dataframe tbody tr th:only-of-type {\n",
       "        vertical-align: middle;\n",
       "    }\n",
       "\n",
       "    .dataframe tbody tr th {\n",
       "        vertical-align: top;\n",
       "    }\n",
       "\n",
       "    .dataframe thead th {\n",
       "        text-align: right;\n",
       "    }\n",
       "</style>\n",
       "<table border=\"1\" class=\"dataframe\">\n",
       "  <thead>\n",
       "    <tr style=\"text-align: right;\">\n",
       "      <th></th>\n",
       "      <th>순위</th>\n",
       "      <th>제목</th>\n",
       "      <th>개봉일</th>\n",
       "      <th>예매율</th>\n",
       "      <th>평점</th>\n",
       "    </tr>\n",
       "  </thead>\n",
       "  <tbody>\n",
       "    <tr>\n",
       "      <th>0</th>\n",
       "      <td>1</td>\n",
       "      <td>아바타-물의 길</td>\n",
       "      <td>2022.12.14</td>\n",
       "      <td>47.0</td>\n",
       "      <td>96.0</td>\n",
       "    </tr>\n",
       "    <tr>\n",
       "      <th>1</th>\n",
       "      <td>2</td>\n",
       "      <td>방탄소년단: 옛 투 컴 인 시네마</td>\n",
       "      <td>2023.02.01</td>\n",
       "      <td>11.7</td>\n",
       "      <td>99.0</td>\n",
       "    </tr>\n",
       "    <tr>\n",
       "      <th>2</th>\n",
       "      <td>3</td>\n",
       "      <td>교섭</td>\n",
       "      <td>2023.01.18</td>\n",
       "      <td>8.9</td>\n",
       "      <td>99.0</td>\n",
       "    </tr>\n",
       "    <tr>\n",
       "      <th>3</th>\n",
       "      <td>4</td>\n",
       "      <td>더 퍼스트 슬램덩크</td>\n",
       "      <td>2023.01.04</td>\n",
       "      <td>8.3</td>\n",
       "      <td>97.0</td>\n",
       "    </tr>\n",
       "    <tr>\n",
       "      <th>4</th>\n",
       "      <td>5</td>\n",
       "      <td>유령</td>\n",
       "      <td>2023.01.18</td>\n",
       "      <td>7.3</td>\n",
       "      <td>99.0</td>\n",
       "    </tr>\n",
       "    <tr>\n",
       "      <th>5</th>\n",
       "      <td>6</td>\n",
       "      <td>영웅</td>\n",
       "      <td>2022.12.21</td>\n",
       "      <td>4.1</td>\n",
       "      <td>94.0</td>\n",
       "    </tr>\n",
       "    <tr>\n",
       "      <th>6</th>\n",
       "      <td>7</td>\n",
       "      <td>장화신은 고양이-끝내주는 모험</td>\n",
       "      <td>2023.01.04</td>\n",
       "      <td>2.7</td>\n",
       "      <td>96.0</td>\n",
       "    </tr>\n",
       "    <tr>\n",
       "      <th>7</th>\n",
       "      <td>8</td>\n",
       "      <td>오늘 밤, 세계에서 이 사랑이 사라진다 해도</td>\n",
       "      <td>2022.11.30</td>\n",
       "      <td>1.6</td>\n",
       "      <td>91.0</td>\n",
       "    </tr>\n",
       "    <tr>\n",
       "      <th>8</th>\n",
       "      <td>9</td>\n",
       "      <td>스위치</td>\n",
       "      <td>2023.01.04</td>\n",
       "      <td>1.6</td>\n",
       "      <td>94.0</td>\n",
       "    </tr>\n",
       "    <tr>\n",
       "      <th>9</th>\n",
       "      <td>10</td>\n",
       "      <td>웃는남자 감독판</td>\n",
       "      <td>2023.01.02</td>\n",
       "      <td>1.4</td>\n",
       "      <td>97.0</td>\n",
       "    </tr>\n",
       "    <tr>\n",
       "      <th>10</th>\n",
       "      <td>11</td>\n",
       "      <td>프린스 챠밍</td>\n",
       "      <td>2023.01.11</td>\n",
       "      <td>1.1</td>\n",
       "      <td>88.0</td>\n",
       "    </tr>\n",
       "    <tr>\n",
       "      <th>11</th>\n",
       "      <td>12</td>\n",
       "      <td>마리앙투아네트</td>\n",
       "      <td>2023.01.02</td>\n",
       "      <td>0.8</td>\n",
       "      <td>98.0</td>\n",
       "    </tr>\n",
       "    <tr>\n",
       "      <th>12</th>\n",
       "      <td>13</td>\n",
       "      <td>위너 2022 콘서트 더 서클 - 더 무비</td>\n",
       "      <td>2023.01.25</td>\n",
       "      <td>0.6</td>\n",
       "      <td>96.0</td>\n",
       "    </tr>\n",
       "    <tr>\n",
       "      <th>13</th>\n",
       "      <td>14</td>\n",
       "      <td>시간을 꿈꾸는 소녀</td>\n",
       "      <td>2023.01.11</td>\n",
       "      <td>0.5</td>\n",
       "      <td>96.0</td>\n",
       "    </tr>\n",
       "    <tr>\n",
       "      <th>14</th>\n",
       "      <td>15</td>\n",
       "      <td>문맨</td>\n",
       "      <td>2023.01.11</td>\n",
       "      <td>0.5</td>\n",
       "      <td>72.0</td>\n",
       "    </tr>\n",
       "    <tr>\n",
       "      <th>15</th>\n",
       "      <td>16</td>\n",
       "      <td>올빼미</td>\n",
       "      <td>2022.11.23</td>\n",
       "      <td>0.2</td>\n",
       "      <td>98.0</td>\n",
       "    </tr>\n",
       "    <tr>\n",
       "      <th>16</th>\n",
       "      <td>17</td>\n",
       "      <td>3000년의 기다림</td>\n",
       "      <td>2023.01.04</td>\n",
       "      <td>0.2</td>\n",
       "      <td>90.0</td>\n",
       "    </tr>\n",
       "    <tr>\n",
       "      <th>17</th>\n",
       "      <td>18</td>\n",
       "      <td>해시태그 시그네</td>\n",
       "      <td>2023.01.11</td>\n",
       "      <td>0.2</td>\n",
       "      <td>NaN</td>\n",
       "    </tr>\n",
       "    <tr>\n",
       "      <th>18</th>\n",
       "      <td>19</td>\n",
       "      <td>[아르코라이브]뮤지컬 호프</td>\n",
       "      <td>2023.01.02</td>\n",
       "      <td>0.1</td>\n",
       "      <td>98.0</td>\n",
       "    </tr>\n",
       "  </tbody>\n",
       "</table>\n",
       "</div>"
      ],
      "text/plain": [
       "    순위                        제목         개봉일   예매율    평점\n",
       "0    1                  아바타-물의 길  2022.12.14  47.0  96.0\n",
       "1    2        방탄소년단: 옛 투 컴 인 시네마  2023.02.01  11.7  99.0\n",
       "2    3                        교섭  2023.01.18   8.9  99.0\n",
       "3    4                더 퍼스트 슬램덩크  2023.01.04   8.3  97.0\n",
       "4    5                        유령  2023.01.18   7.3  99.0\n",
       "5    6                        영웅  2022.12.21   4.1  94.0\n",
       "6    7          장화신은 고양이-끝내주는 모험  2023.01.04   2.7  96.0\n",
       "7    8  오늘 밤, 세계에서 이 사랑이 사라진다 해도  2022.11.30   1.6  91.0\n",
       "8    9                       스위치  2023.01.04   1.6  94.0\n",
       "9   10                  웃는남자 감독판  2023.01.02   1.4  97.0\n",
       "10  11                    프린스 챠밍  2023.01.11   1.1  88.0\n",
       "11  12                   마리앙투아네트  2023.01.02   0.8  98.0\n",
       "12  13   위너 2022 콘서트 더 서클 - 더 무비  2023.01.25   0.6  96.0\n",
       "13  14                시간을 꿈꾸는 소녀  2023.01.11   0.5  96.0\n",
       "14  15                        문맨  2023.01.11   0.5  72.0\n",
       "15  16                       올빼미  2022.11.23   0.2  98.0\n",
       "16  17                3000년의 기다림  2023.01.04   0.2  90.0\n",
       "17  18                  해시태그 시그네  2023.01.11   0.2   NaN\n",
       "18  19            [아르코라이브]뮤지컬 호프  2023.01.02   0.1  98.0"
      ]
     },
     "execution_count": 11,
     "metadata": {},
     "output_type": "execute_result"
    }
   ],
   "source": [
    "df_movie = pd.DataFrame(chart)\n",
    "df_movie"
   ]
  },
  {
   "cell_type": "markdown",
   "id": "95da9364",
   "metadata": {},
   "source": [
    "## 4. csv 파일로 변환"
   ]
  },
  {
   "cell_type": "code",
   "execution_count": 12,
   "id": "822729f0",
   "metadata": {},
   "outputs": [],
   "source": [
    "df_movie.to_csv('CGV무비차트.csv')"
   ]
  }
 ],
 "metadata": {
  "kernelspec": {
   "display_name": "Python 3 (ipykernel)",
   "language": "python",
   "name": "python3"
  },
  "language_info": {
   "codemirror_mode": {
    "name": "ipython",
    "version": 3
   },
   "file_extension": ".py",
   "mimetype": "text/x-python",
   "name": "python",
   "nbconvert_exporter": "python",
   "pygments_lexer": "ipython3",
   "version": "3.9.12"
  }
 },
 "nbformat": 4,
 "nbformat_minor": 5
}
